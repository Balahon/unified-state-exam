{
 "cells": [
  {
   "cell_type": "code",
   "execution_count": 1,
   "id": "30141cba",
   "metadata": {},
   "outputs": [
    {
     "name": "stdout",
     "output_type": "stream",
     "text": [
      "0 0 0\n",
      "0 0 1\n",
      "1 0 0\n",
      "1 0 1\n",
      "1 1 0\n"
     ]
    }
   ],
   "source": [
    "for x in range(2):\n",
    "    for y in range(2):\n",
    "        for z in range(2):\n",
    "            if not(y)or(x and not(z)) == 1:\n",
    "                print(x,y,z)"
   ]
  },
  {
   "cell_type": "code",
   "execution_count": null,
   "id": "9c2df1a3",
   "metadata": {},
   "outputs": [],
   "source": [
    "a = [20, 10]\n",
    "while (a[0] != 0) or (a[1] != 0):\n",
    "    for i in range(2):\n",
    "        if i == 0:\n",
    "            a[0] = a[0] - 1\n",
    "        else:\n",
    "            a[1] = a[1] - 2\n",
    "    \n",
    "print(a)"
   ]
  },
  {
   "cell_type": "code",
   "execution_count": null,
   "id": "ad4a085d",
   "metadata": {},
   "outputs": [],
   "source": [
    "for x in range(2):\n",
    "    for y in range(2):\n",
    "        for z in range(2):\n",
    "            for w in range(2):\n",
    "                #if not(w) and z and (not(y) or x) == 1:\n",
    "                if (x or y) and not( y == z) and not(w) == 1:\n",
    "                    print(\"x = \", x, \" \",\"y = \", y, \" \",\"z = \", z, \" \",\"w = \", w, \" \",)"
   ]
  },
  {
   "cell_type": "code",
   "execution_count": null,
   "id": "e0fa1ad9",
   "metadata": {},
   "outputs": [],
   "source": [
    "x,y,z,w = [int(i) for i in range(2)]"
   ]
  },
  {
   "cell_type": "code",
   "execution_count": null,
   "id": "9b533741",
   "metadata": {},
   "outputs": [],
   "source": [
    "print(\"x y z w\")\n",
    "for x in range(2):\n",
    "    for y in range(2):\n",
    "        for z in range(2):\n",
    "            for w in range(2):\n",
    "                if (not((not(z) or w) and (not(x) == y)) or (x and z)) == 0:\n",
    "                    print(x, y, z, w)"
   ]
  },
  {
   "cell_type": "code",
   "execution_count": null,
   "id": "a7edea5f",
   "metadata": {},
   "outputs": [],
   "source": [
    "print(\"x y z F \")\n",
    "for x in range(2):\n",
    "    for y in range(2):\n",
    "        for z in range(2):\n",
    "            if (not(z)and x) == 0:\n",
    "                print(x,y,z,0)\n",
    "            else:\n",
    "                print(x,y,z,1)"
   ]
  }
 ],
 "metadata": {
  "kernelspec": {
   "display_name": "Python 3 (ipykernel)",
   "language": "python",
   "name": "python3"
  },
  "language_info": {
   "codemirror_mode": {
    "name": "ipython",
    "version": 3
   },
   "file_extension": ".py",
   "mimetype": "text/x-python",
   "name": "python",
   "nbconvert_exporter": "python",
   "pygments_lexer": "ipython3",
   "version": "3.8.0"
  }
 },
 "nbformat": 4,
 "nbformat_minor": 5
}
