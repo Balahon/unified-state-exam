{
 "cells": [
  {
   "cell_type": "code",
   "execution_count": 1,
   "id": "cb62fb05",
   "metadata": {},
   "outputs": [
    {
     "name": "stdout",
     "output_type": "stream",
     "text": [
      "В О Р О Т А\n",
      "4821\n"
     ]
    }
   ],
   "source": [
    "# Все шестибуквенные слова, составленные из букв А, В, О, Р, Т, записаны в алфавитном порядке и\n",
    "# пронумерованы начиная с 1.\n",
    "# Ниже приведено начало списка.\n",
    "# 1. АААААА\n",
    "# 2. АААААВ\n",
    "# 3. АААААО\n",
    "# 4. АААААР\n",
    "# 5. АААААТ\n",
    "# 6. ААААВА\n",
    "# …\n",
    "# Под каким номером стоит слово ВОРОТА?\n",
    "dict = [\"А\",\"В\",\"О\",\"Р\",\"Т\"]\n",
    "count=0\n",
    "for x1 in dict:\n",
    "    for x2 in dict:\n",
    "        for x3 in dict:\n",
    "            for x4 in dict:\n",
    "                for x5 in dict:\n",
    "                    for x6 in dict:\n",
    "                        if x1 == \"В\" and x2 == \"О\" and x3 == \"Р\" and x4 == \"О\" and x5 == \"Т\" and x6 == \"А\":\n",
    "                            count += 1\n",
    "                            q = count\n",
    "                            print(x1,x2,x3,x4,x5,x6) \n",
    "                        else:\n",
    "                            count +=1\n",
    "print(q)\n",
    "# 4821"
   ]
  },
  {
   "cell_type": "code",
   "execution_count": null,
   "id": "718effbd",
   "metadata": {},
   "outputs": [],
   "source": []
  }
 ],
 "metadata": {
  "kernelspec": {
   "display_name": "Python 3 (ipykernel)",
   "language": "python",
   "name": "python3"
  },
  "language_info": {
   "codemirror_mode": {
    "name": "ipython",
    "version": 3
   },
   "file_extension": ".py",
   "mimetype": "text/x-python",
   "name": "python",
   "nbconvert_exporter": "python",
   "pygments_lexer": "ipython3",
   "version": "3.11.1"
  }
 },
 "nbformat": 4,
 "nbformat_minor": 5
}
