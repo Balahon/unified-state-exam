{
 "cells": [
  {
   "cell_type": "code",
   "execution_count": null,
   "id": "828689ef",
   "metadata": {},
   "outputs": [],
   "source": [
    "def evklid(a,b):\n",
    "    while(a!=b):\n",
    "        if a>b:\n",
    "            a = a-b\n",
    "        else:\n",
    "            b = b - a\n",
    "    return a\n",
    "a = int(input())\n",
    "b = int(input())\n",
    "c = int(input())\n",
    "print(evklid(evklid(a,b),c))\n"
   ]
  }
 ],
 "metadata": {
  "language_info": {
   "name": "python"
  }
 },
 "nbformat": 4,
 "nbformat_minor": 5
}
