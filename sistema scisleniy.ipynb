{
 "cells": [
  {
   "cell_type": "code",
   "execution_count": null,
   "id": "7c581a96",
   "metadata": {},
   "outputs": [],
   "source": [
    "R = [1111111110, 1444444416]\n",
    "print(bin(R[0]), bin(R[1]))\n",
    "Q = ['10000100011101000110101110','10101100001100001111001000']\n",
    "W = [int(Q[0],2),int(Q[1],2)] #34722223, 45138887\n",
    "print(W[1]-W[0])\n",
    "N = 45138887\n",
    "Nb = bin(N)[2:]\n",
    "if len(str(bin(N%3)[2:])) == 1:\n",
    "    Nb = Nb+ '0' +bin(N%3)[2:]\n",
    "elif len(str(bin(N%3)[2:])) == 2:\n",
    "    Nb = Nb+bin(N%3)[2:]\n",
    "N = int(Nb,2)\n",
    "if len(str(bin(N%5)[2:])) == 1:\n",
    "    Nb = Nb + '00' +bin(N%5)[2:]\n",
    "elif len(str(bin(N%5)[2:])) == 2:\n",
    "    Nb = Nb + '0' +bin(N%5)[2:]\n",
    "elif len(str(bin(N%5)[2:])) == 3:\n",
    "    Nb = Nb+bin(N%5)[2:]\n",
    "R = int(Nb,2)\n",
    "print(R)\n",
    "print(45138887 - 34722223)"
   ]
  }
 ],
 "metadata": {
  "language_info": {
   "name": "python"
  }
 },
 "nbformat": 4,
 "nbformat_minor": 5
}
