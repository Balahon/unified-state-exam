{
 "cells": [
  {
   "cell_type": "code",
   "execution_count": 6,
   "id": "9260f899",
   "metadata": {},
   "outputs": [
    {
     "name": "stdout",
     "output_type": "stream",
     "text": [
      "\n",
      "221\n"
     ]
    }
   ],
   "source": [
    "strng = '1' * 104\n",
    "print()\n",
    "while ('111' in strng):\n",
    "    strng = strng.replace('111', '22', 1)\n",
    "    strng = strng.replace('222', '11', 1)\n",
    "print(strng)\n"
   ]
  },
  {
   "cell_type": "code",
   "execution_count": 7,
   "id": "c9441433",
   "metadata": {},
   "outputs": [
    {
     "name": "stdout",
     "output_type": "stream",
     "text": [
      "19999999999999999999999999999999999999999999999999999999999999999999999999999999999999999999999999999\n",
      "результат :  39\n"
     ]
    }
   ],
   "source": [
    "a = \"1\" + \"9\"*100\n",
    "print(a)\n",
    "while((\"19\" in a) or (\"299\" in a) or(\"3999\" in a)):\n",
    "    a = a.replace(\"19\", \"2\", 1)\n",
    "    a = a.replace(\"299\", \"3\", 1)\n",
    "    a = a.replace(\"3999\", \"1\", 1)\n",
    "print(\"результат : \", a)"
   ]
  },
  {
   "cell_type": "code",
   "execution_count": 8,
   "id": "b3c92c1f",
   "metadata": {},
   "outputs": [
    {
     "name": "stdout",
     "output_type": "stream",
     "text": [
      "8888888888888888888888888888888888888888888888888888888888888888888888\n",
      "результат :  22\n"
     ]
    }
   ],
   "source": [
    "a = \"8\"*70\n",
    "print(a)\n",
    "while((\"2222\" in a) or (\"8888\" in a)):\n",
    "    a = a.replace(\"2222\", \"88\", 1)\n",
    "    a = a.replace(\"8888\", \"22\", 1)\n",
    "print(\"результат : \", a)"
   ]
  },
  {
   "cell_type": "code",
   "execution_count": 9,
   "id": "80c61060",
   "metadata": {},
   "outputs": [
    {
     "name": "stdout",
     "output_type": "stream",
     "text": [
      "результат :  13\n"
     ]
    }
   ],
   "source": [
    "a = \"1\" + \"8\"*99 + \"1\"\n",
    "while((\"81\" in a) or (\"882\" in a) or (\"8883\" in a)):\n",
    "    a = a.replace(\"81\", \"2\", 1)\n",
    "    a = a.replace(\"882\", \"3\", 1)\n",
    "    a = a.replace(\"8883\", \"1\", 1)\n",
    "print(\"результат : \", a)"
   ]
  },
  {
   "cell_type": "code",
   "execution_count": 10,
   "id": "ee30ec6c",
   "metadata": {},
   "outputs": [
    {
     "name": "stdout",
     "output_type": "stream",
     "text": [
      "1000000000000000000000000000000000\n",
      "51\n"
     ]
    }
   ],
   "source": [
    "a = \"1\"+\"0\"*33\n",
    "print(a)\n",
    "while (('1' in a ) or ('100' in a )):\n",
    "    if ('100' in a):\n",
    "        a = a.replace('100', '0001', 1)\n",
    "    else:\n",
    "        a = a.replace('1', '00', 1)\n",
    "print(len(a))"
   ]
  },
  {
   "cell_type": "code",
   "execution_count": 11,
   "id": "dd214422",
   "metadata": {},
   "outputs": [
    {
     "name": "stdout",
     "output_type": "stream",
     "text": [
      "8413\n"
     ]
    }
   ],
   "source": [
    "count = 0 \n",
    "for i in range(10000,100000):\n",
    "    a = oct(i)[2::]\n",
    "    if a.count(\"6\") == 1:\n",
    "        index6 = a.index('6')\n",
    "        if index6 == 0:\n",
    "            if int(a[index6+1]) % 2 == 0:\n",
    "                count += 1\n",
    "        elif index6 == (len(a)-1):\n",
    "            if int(a[index6-1]) % 2 == 0:\n",
    "                count += 1\n",
    "        elif (int(a[index6-1])%2 == 0) and (int(a[index6+1])%2 == 0):\n",
    "            count += 1\n",
    "print(count)"
   ]
  },
  {
   "cell_type": "code",
   "execution_count": 12,
   "id": "9e1687c6",
   "metadata": {},
   "outputs": [
    {
     "name": "stdout",
     "output_type": "stream",
     "text": [
      "18\n",
      "323\n"
     ]
    }
   ],
   "source": [
    "# Дана программа для редактора:\n",
    "# НАЧАЛО\n",
    "# ПОКА нашлось (25) ИЛИ нашлось (355) ИЛИ нашлось (555)\n",
    "#  ЕСЛИ нашлось (25)\n",
    "#  ТО заменить (25, 5)\n",
    "#  КОНЕЦ ЕСЛИ\n",
    "#  ЕСЛИ нашлось (355)\n",
    "#  ТО заменить (355, 52)\n",
    "#  КОНЕЦ ЕСЛИ\n",
    "#  ЕСЛИ нашлось (555)\n",
    "#  ТО заменить (555, 3)\n",
    "#  КОНЕЦ ЕСЛИ\n",
    "# КОНЕЦ ПОКА\n",
    "# КОНЕЦ\n",
    "# На вход приведённой выше программе поступает строка, начинающаяся с цифры \"2\", а затем содержащая n цифр \"5\" (n > 3).\n",
    "# Определите наименьшее значение n, при котором в строке, получившейся в результате выполнения программы, количество цифр «3» равно 2.\n",
    "for x in range(3,50):\n",
    "    c = \"2\"+\"5\"*x\n",
    "    while(\"25\" in c or \"355\" in c or \"555\" in c):\n",
    "        c = c.replace('25','5',1)\n",
    "        c = c.replace('355','52',1)\n",
    "        c = c.replace('555','3',1)\n",
    "    if c.count(\"3\") == 2:\n",
    "        print(x)\n",
    "        print(c)\n",
    "        break"
   ]
  },
  {
   "cell_type": "code",
   "execution_count": 16,
   "id": "eac3d011",
   "metadata": {},
   "outputs": [
    {
     "name": "stdout",
     "output_type": "stream",
     "text": [
      "117\n"
     ]
    }
   ],
   "source": [
    "# На вход приведённой выше программе поступает строка, содержащая n цифр 5.\n",
    "# Определите наименьшее значение n, большее 100 и кратное 9, при котором в результат\n",
    "# работы алгоритма получится строка с максимальным числовым значением.\n",
    "for n in range(100,1000):\n",
    "    if n % 9 == 0:\n",
    "        a = \"5\" * n\n",
    "        while(\"555\" in a or '11' in a or '2' in a):\n",
    "            a = a.replace('555','1',1)\n",
    "            a = a.replace('11','25',1)\n",
    "            a = a.replace('2','5',1)\n",
    "        if a == '155':\n",
    "            print(n)\n",
    "            break\n",
    "# Для ответа берем первое выведенное число(117)"
   ]
  },
  {
   "cell_type": "code",
   "execution_count": null,
   "id": "ebddb44b",
   "metadata": {},
   "outputs": [],
   "source": [
    "a = '5'*54+'7'\n",
    "while ((\"722\" in a )or ('557' in a)):\n",
    "    a = a.replace(\"722\",\"57\",1)\n",
    "    a = a.replace(\"557\", \"72\", 1)\n",
    "print(a)\n",
    "\n",
    "\n"
   ]
  },
  {
   "cell_type": "code",
   "execution_count": null,
   "id": "57cef771",
   "metadata": {},
   "outputs": [],
   "source": [
    "a = '1'+'2'*177\n",
    "print(a)\n",
    "while(('12' in a) or ('3322' in a) or ('2222' in a)):\n",
    "    if ('12' in a):\n",
    "        a = a.replace('12','33')\n",
    "    elif ('2222' in a):\n",
    "        a = a.replace('2222','1')\n",
    "    elif ('3322' in a):\n",
    "        a = a.replace('3322','21')"
   ]
  },
  {
   "cell_type": "code",
   "execution_count": null,
   "id": "4d0fbed8",
   "metadata": {},
   "outputs": [],
   "source": [
    "s = a.count('3')*3+a.count('2')*2+a.count('1')\n",
    "print(s)\n",
    "print(a)\n",
    "    # if s == 218:\n",
    "    #     print(n)\n",
    "    #     break"
   ]
  }
 ],
 "metadata": {
  "kernelspec": {
   "display_name": "Python 3 (ipykernel)",
   "language": "python",
   "name": "python3"
  },
  "language_info": {
   "codemirror_mode": {
    "name": "ipython",
    "version": 3
   },
   "file_extension": ".py",
   "mimetype": "text/x-python",
   "name": "python",
   "nbconvert_exporter": "python",
   "pygments_lexer": "ipython3",
   "version": "3.11.1"
  }
 },
 "nbformat": 4,
 "nbformat_minor": 5
}
