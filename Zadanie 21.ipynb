{
 "cells": [
  {
   "cell_type": "code",
   "execution_count": null,
   "id": "3a227f8d",
   "metadata": {},
   "outputs": [],
   "source": [
    "def f(a,b,m):\n",
    "    if a+b>=118: return m%2==0\n",
    "    elif m == 0: return False\n",
    "    h = [f(a+2,b,m-1), f(a*2,b,m-1),f(a,b+2,m-1),f(a,b*2,m-1)]\n",
    "    if m%2 != 0: return any(h)\n",
    "    else: return all(h)\n",
    "print('21)' , ([s for s in range(1,114) if not f(3,s,2) and f(3,s,4)]))\n",
    "\n"
   ]
  }
 ],
 "metadata": {
  "language_info": {
   "name": "python"
  }
 },
 "nbformat": 4,
 "nbformat_minor": 5
}
