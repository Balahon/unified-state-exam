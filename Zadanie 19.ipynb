{
 "cells": [
  {
   "cell_type": "code",
   "execution_count": null,
   "id": "95d08e99",
   "metadata": {},
   "outputs": [
    {
     "name": "stdout",
     "output_type": "stream",
     "text": [
      "19) 29\n"
     ]
    }
   ],
   "source": [
    "#19 variant выйграет петя\n",
    "def f(a,b,m):\n",
    "    if a+b>=118 and m == 2: return True\n",
    "    elif a+b>=118 and m < 2: return False\n",
    "    elif a+b<118 and m == 2: return False\n",
    "    h = [f(a+2,b,m+1), f(a*2,b,m+1),f(a,b+2,m+1),f(a,b*2,m+1)]\n",
    "    return any(h)\n",
    "print('19)' ,min ([s for s in range(1,114) if f(3,s,0) is True]))\n",
    "\n",
    "\n"
   ]
  },
  {
   "cell_type": "code",
   "execution_count": null,
   "id": "972e5f33",
   "metadata": {},
   "outputs": [
    {
     "name": "stdout",
     "output_type": "stream",
     "text": [
      "19) [57, 58]\n"
     ]
    }
   ],
   "source": [
    "# выйграет ваня\n",
    "def f(a,b,m):\n",
    "    if a+b>=122: return m % 2 == 0\n",
    "    elif m == 0: return False\n",
    "    h = [f(a+2,b,m-1), f(a*2,b,m-1),f(a,b+2,m-1),f(a,b*2,m-1)]\n",
    "    if m%2 != 0: return any(h)\n",
    "    else: return all(h)\n",
    "print('19)' ,[s for s in range(1,118) if not f(s,3,1) and f(s,3,3)])\n",
    "\n",
    "\n"
   ]
  }
 ],
 "metadata": {
  "kernelspec": {
   "display_name": "Python 3 (ipykernel)",
   "language": "python",
   "name": "python3"
  },
  "language_info": {
   "codemirror_mode": {
    "name": "ipython",
    "version": 3
   },
   "file_extension": ".py",
   "mimetype": "text/x-python",
   "name": "python",
   "nbconvert_exporter": "python",
   "pygments_lexer": "ipython3",
   "version": "3.12.1"
  }
 },
 "nbformat": 4,
 "nbformat_minor": 5
}
