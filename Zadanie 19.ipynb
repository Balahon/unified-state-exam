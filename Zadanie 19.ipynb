{
 "cells": [
  {
   "cell_type": "code",
   "execution_count": null,
   "id": "95d08e99",
   "metadata": {},
   "outputs": [],
   "source": [
    "#19 variant\n",
    "def f(a,b,m):\n",
    "    if a+b>=118 and m == 2: return True\n",
    "    elif a+b>=118 and m < 2: return False\n",
    "    elif a+b<118 and m == 2: return False\n",
    "    h = [f(a+2,b,m+1), f(a*2,b,m+1),f(a,b+2,m+1),f(a,b*2,m+1)]\n",
    "    return any(h)\n",
    "print('19)' ,min ([s for s in range(1,114) if f(3,s,0) is True]))\n",
    "\n",
    "\n"
   ]
  }
 ],
 "metadata": {
  "language_info": {
   "name": "python"
  }
 },
 "nbformat": 4,
 "nbformat_minor": 5
}
