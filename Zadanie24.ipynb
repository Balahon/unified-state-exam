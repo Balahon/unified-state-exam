{
 "cells": [
  {
   "cell_type": "code",
   "execution_count": 52,
   "id": "2388afac",
   "metadata": {},
   "outputs": [
    {
     "name": "stdout",
     "output_type": "stream",
     "text": [
      "95\n"
     ]
    }
   ],
   "source": [
    "# Текстовый файл состоит из символов A, C, D, F и O. \n",
    "# Определите максимальное количество идущих подряд пар символов вида \n",
    "# согласная + гласная   в прилагаемом файле. \n",
    "# Для выполнения этого задания следует написать программу.\n",
    "n = open('24.txt').read().split() # открываем файл на запись\n",
    "q = n[0] # файл открылся ввиде массива с одним элементом [\"OFAFOF...\"]\n",
    "# для удобства мы сохраним все в виде строки (q = n[0]) \n",
    "# присвоив переменной q всю строку/запись массива n под индексом 0.\n",
    "a = [] # теперь, для удобства, запишем строку q в виде списка\n",
    "for i in q:\n",
    "    a.append(i)\n",
    "# создадим 2 массива с гласными и согласными буквами\n",
    "sogl = ['C','D','F'] \n",
    "gl = ['A','O']\n",
    "count = 0 # счетчик\n",
    "maxx = 0 # максимальное число\n",
    "flag = False # маркер. По нему будем ориентироваться, есть ли пара СОГЛ+ГЛАС\n",
    "for i in range(len(a)-1): # начинаем цикл до предпоследнего элемнета\n",
    "    if a[i] in sogl: # если 1 элемент соглассный\n",
    "        if a[i+1] in gl: # если 2 элемнт глассный\n",
    "            count += 1 # счетчик +1\n",
    "            if maxx < count: # тут сразу проверяем максимум\n",
    "                maxx = count\n",
    "            flag = True # маркер того, что есть пара\n",
    "        elif a[i+1] in sogl: # если 2 элемент соглассный\n",
    "            count = 0 # обнуляем счетчик\n",
    "            flag = False # маркер переводим в False - начинаем счет заного\n",
    "    elif flag: # если маркер True - значит есть хотя бы 1 пара букв\n",
    "        if a[i] in gl:# если 1 элемент глассный\n",
    "            if a[i+1] in gl:# если 2 элемент глассный\n",
    "                count = 0 # обнуляем счетчик\n",
    "                flag = False # маркер переводим в False - начинаем счет заного\n",
    "# нас удовлетворяют условия: согл + глас. Если есть хотя бы 1 пара согл + глас,\n",
    "# то если следующие элементы глас + согл, ничего не делаем и проверяем дальше.\n",
    "# если идут согл + согл или глас + глас, то мы обнуляем счетчик и начинаем\n",
    "# счет с нуля.\n",
    "print(maxx)\n",
    "        "
   ]
  },
  {
   "cell_type": "code",
   "execution_count": 1,
   "id": "d70740d7",
   "metadata": {},
   "outputs": [
    {
     "name": "stdout",
     "output_type": "stream",
     "text": [
      "10 FATSFATFAT\n"
     ]
    }
   ],
   "source": [
    "# В файле содержится строка длиной не более 106 из букв английского алфавита\n",
    "# Определите минимальную длину подстроки, в которой ровно три тройки BAD или FAT.\n",
    "# Например, в строке SDFATFDBADZZSFATBADGHTBAD есть три подходящие подстрок\n",
    "# FATFDBADZZSFAT, BADZZSFATBAD и FATBADGHTBAD. Минимальная длина 12.\n",
    "n = open('24_9169.txt').read().split()\n",
    "q = n[0]\n",
    "a = []\n",
    "for i in q:\n",
    "    a.append(i)\n",
    "first = ['B','A','D']\n",
    "second = ['F','A','T']\n",
    "count = 0\n",
    "dlin = ''\n",
    "minn = 9999\n",
    "i=0\n",
    "while(i<(len(a)-2)):\n",
    "    if (a[i] == first[0] and a[i+1] == first[1] and a[i+2] == first[2]) or (a[i] == second[0] and a[i+1] == second[1] and a[i+2] == second[2]):\n",
    "        count += 1\n",
    "        if count == 2: # запоминаем первое вхождение второй комбинации\n",
    "            i1 = i\n",
    "    if count < 3 and count > 0:\n",
    "        dlin += a[i] \n",
    "    if count == 3:\n",
    "        dlin += a[i]+a[i+1]+a[i+2]\n",
    "        if minn > (len(dlin)):\n",
    "            minn = (len(dlin))\n",
    "            q = (dlin)\n",
    "        count = 0\n",
    "        dlin = ''\n",
    "        i = i1 # вовращаем i к значению, когда появляется 2 комбинация\n",
    "#         2 комбинация теперь становится 1\n",
    "    else:\n",
    "        i+=1\n",
    "print(minn, q)\n",
    "# цикл работает так:\n",
    "# сначала выбираем первую комбинацию [FATFFSBADFEBAD]\n",
    "# затем откидываем все, что было перед первой комбинацией\n",
    "# и строем новую [BADFEBADFDSFAT] и так далее\n",
    "# именно запоминая первое вхождение второй комбинации\n",
    "# и присваивая после 3 комбинации\n",
    "# i значению i1 значение, мы реализуем проход по всем комбинациям\n"
   ]
  },
  {
   "cell_type": "code",
   "execution_count": null,
   "id": "8aa7cf80",
   "metadata": {},
   "outputs": [],
   "source": []
  }
 ],
 "metadata": {
  "kernelspec": {
   "display_name": "Python 3 (ipykernel)",
   "language": "python",
   "name": "python3"
  },
  "language_info": {
   "codemirror_mode": {
    "name": "ipython",
    "version": 3
   },
   "file_extension": ".py",
   "mimetype": "text/x-python",
   "name": "python",
   "nbconvert_exporter": "python",
   "pygments_lexer": "ipython3",
   "version": "3.11.1"
  }
 },
 "nbformat": 4,
 "nbformat_minor": 5
}
