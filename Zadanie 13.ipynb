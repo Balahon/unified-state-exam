{
 "cells": [
  {
   "cell_type": "code",
   "execution_count": null,
   "id": "4bad7c7e",
   "metadata": {},
   "outputs": [],
   "source": [
    "# код позволяет перевести IP и Маску в 2cc\n",
    "print('.'.join(f'{x:>08b}' for x in [244, 55, 138, 100]))\n",
    "print('.'.join(f'{x:>08b}' for x in [240, 55, 138, 96]))"
   ]
  }
 ],
 "metadata": {
  "language_info": {
   "name": "python"
  }
 },
 "nbformat": 4,
 "nbformat_minor": 5
}
