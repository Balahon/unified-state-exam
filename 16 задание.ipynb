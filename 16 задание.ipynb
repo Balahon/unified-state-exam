{
 "cells": [
  {
   "cell_type": "code",
   "execution_count": 40,
   "id": "5dc6d85f",
   "metadata": {},
   "outputs": [],
   "source": [
    "# F(n) = 2 при n ≤ 2;\n",
    "# F(n) = F(n − 1) + 3 · F(n − 2) при n > 2.\n",
    "\n",
    "def F(n):\n",
    "    if n > 2:\n",
    "        return F(n-1) + 3*F(n - 2)\n",
    "    else:\n",
    "        return 2\n"
   ]
  },
  {
   "cell_type": "code",
   "execution_count": 41,
   "id": "7b388511",
   "metadata": {},
   "outputs": [
    {
     "name": "stdout",
     "output_type": "stream",
     "text": [
      "2\n",
      "2\n",
      "8\n",
      "2\n",
      "2\n",
      "2\n",
      "14\n",
      "2\n",
      "2\n",
      "8\n",
      "2\n",
      "2\n",
      "2\n",
      "2\n",
      "2\n",
      "8\n",
      "2\n",
      "2\n",
      "38\n",
      "2\n",
      "2\n",
      "8\n",
      "2\n",
      "2\n",
      "2\n",
      "14\n",
      "2\n",
      "2\n",
      "8\n",
      "2\n",
      "2\n",
      "2\n",
      "2\n",
      "2\n",
      "8\n",
      "2\n",
      "2\n"
     ]
    },
    {
     "data": {
      "text/plain": [
       "38"
      ]
     },
     "execution_count": 41,
     "metadata": {},
     "output_type": "execute_result"
    }
   ],
   "source": [
    "F(5)"
   ]
  },
  {
   "cell_type": "code",
   "execution_count": 28,
   "id": "ff51c4b9",
   "metadata": {},
   "outputs": [
    {
     "name": "stdout",
     "output_type": "stream",
     "text": [
      "[2, 2, 2, 4, 6, 16, 30]\n"
     ]
    }
   ],
   "source": [
    "F = [0]*7 # меняем строку по условию\n",
    "F[0] = 2\n",
    "F[1] = 2\n",
    "for i in range(2,7):\n",
    "    F[i] = F[i-2] * (i-1) # меняем строку по условию\n",
    "print(F)"
   ]
  },
  {
   "cell_type": "code",
   "execution_count": 36,
   "id": "66d7b3fd",
   "metadata": {},
   "outputs": [],
   "source": [
    "def F(n):\n",
    "    if n > 2:\n",
    "        return F(n-1) + G(n-2)\n",
    "    else: \n",
    "        return 2\n",
    "def G(n):\n",
    "    if n > 2:\n",
    "        return G(n-1) + F(n-2)\n",
    "    else: \n",
    "        return 2"
   ]
  },
  {
   "cell_type": "code",
   "execution_count": 37,
   "id": "1f8ebb49",
   "metadata": {},
   "outputs": [
    {
     "data": {
      "text/plain": [
       "16"
      ]
     },
     "execution_count": 37,
     "metadata": {},
     "output_type": "execute_result"
    }
   ],
   "source": [
    "G(6)"
   ]
  },
  {
   "cell_type": "code",
   "execution_count": 2,
   "id": "0e7c1a32",
   "metadata": {},
   "outputs": [],
   "source": [
    "def F(n):\n",
    "    if n > 0:\n",
    "        print(n)\n",
    "        F(n // 2)\n",
    "        F(n - 4)"
   ]
  },
  {
   "cell_type": "code",
   "execution_count": 3,
   "id": "611f38af",
   "metadata": {},
   "outputs": [
    {
     "name": "stdout",
     "output_type": "stream",
     "text": [
      "9\n",
      "4\n",
      "2\n",
      "1\n",
      "5\n",
      "2\n",
      "1\n",
      "1\n"
     ]
    }
   ],
   "source": [
    "F(9)"
   ]
  },
  {
   "cell_type": "code",
   "execution_count": 4,
   "id": "2ec3b000",
   "metadata": {},
   "outputs": [],
   "source": [
    "def G(n):\n",
    "    if n > 2:\n",
    "        return G(n-1) * G(n-2)\n",
    "    else:\n",
    "        return n + 1"
   ]
  },
  {
   "cell_type": "code",
   "execution_count": 5,
   "id": "8d694bac",
   "metadata": {},
   "outputs": [
    {
     "data": {
      "text/plain": [
       "18"
      ]
     },
     "execution_count": 5,
     "metadata": {},
     "output_type": "execute_result"
    }
   ],
   "source": [
    "G(4)"
   ]
  },
  {
   "cell_type": "code",
   "execution_count": 18,
   "id": "d6d74daf",
   "metadata": {},
   "outputs": [],
   "source": [
    "def Z(x):\n",
    "    if x <= 1:\n",
    "        return 0\n",
    "    elif x%2 == 0:\n",
    "        return x/2 + Z(x-1) + 2\n",
    "    else:\n",
    "        return Z(x-1) + 3*x**2"
   ]
  },
  {
   "cell_type": "code",
   "execution_count": 19,
   "id": "60ef168e",
   "metadata": {
    "scrolled": true
   },
   "outputs": [
    {
     "data": {
      "text/plain": [
       "62820.0"
      ]
     },
     "execution_count": 19,
     "metadata": {},
     "output_type": "execute_result"
    }
   ],
   "source": [
    "Z(49)"
   ]
  },
  {
   "cell_type": "code",
   "execution_count": null,
   "id": "252f28ff",
   "metadata": {},
   "outputs": [],
   "source": []
  }
 ],
 "metadata": {
  "kernelspec": {
   "display_name": "Python 3 (ipykernel)",
   "language": "python",
   "name": "python3"
  },
  "language_info": {
   "codemirror_mode": {
    "name": "ipython",
    "version": 3
   },
   "file_extension": ".py",
   "mimetype": "text/x-python",
   "name": "python",
   "nbconvert_exporter": "python",
   "pygments_lexer": "ipython3",
   "version": "3.8.0"
  }
 },
 "nbformat": 4,
 "nbformat_minor": 5
}
