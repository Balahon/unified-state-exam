{
 "cells": [
  {
   "cell_type": "code",
   "execution_count": 6,
   "id": "77169359",
   "metadata": {
    "scrolled": true
   },
   "outputs": [
    {
     "name": "stdout",
     "output_type": "stream",
     "text": [
      "Введите число: 56\n",
      "Введите с.с.: 16\n",
      "38\n",
      "83x0\n",
      "8\n"
     ]
    }
   ],
   "source": [
    "n = (int(input(\"Введите число: \")))\n",
    "w = (int(input(\"Введите с.с.: \")))\n",
    "c = \"\"\n",
    "while(n>1):\n",
    "    if w == 2:\n",
    "        c = bin(n)\n",
    "        print(c[2::])\n",
    "        break\n",
    "    if w == 8:\n",
    "        c = oct(n)\n",
    "        print(c[2::])\n",
    "        break\n",
    "    if w == 16:\n",
    "        c = hex(n)\n",
    "        print(c[2::])\n",
    "        break\n",
    "    else:\n",
    "        c = c + (str(n % w))\n",
    "        n = n // w\n",
    "print(c[::-1]) # выводит значение для всех с.с. кроме 2,8,16\n",
    "print(c[-1]) # возвращает последнийиндекс"
   ]
  },
  {
   "cell_type": "code",
   "execution_count": null,
   "id": "4a10575c",
   "metadata": {},
   "outputs": [],
   "source": [
    "c.count(\"b\") > 0 # количество букв b в строке\n",
    "c.index(\"b\") # возвращает индекс буквы b"
   ]
  },
  {
   "cell_type": "code",
   "execution_count": 16,
   "id": "99cb2a67",
   "metadata": {},
   "outputs": [
    {
     "name": "stdout",
     "output_type": "stream",
     "text": [
      "43\n"
     ]
    }
   ],
   "source": [
    "for i in range(10, 99):\n",
    "    шест = hex(i) # переводим из 10 в 16 \n",
    "    n = i\n",
    "    c = \"\"\n",
    "    if шест[-1] == \"b\": # находим последний элемент\n",
    "        while n>1:\n",
    "            c = c + (str(n % 5))\n",
    "            n = n // 5\n",
    "        if c[0] == '3':\n",
    "            print(i)"
   ]
  },
  {
   "cell_type": "code",
   "execution_count": 4,
   "id": "4fff5d92",
   "metadata": {},
   "outputs": [
    {
     "data": {
      "text/plain": [
       "1968875"
      ]
     },
     "execution_count": 4,
     "metadata": {},
     "output_type": "execute_result"
    }
   ],
   "source": [
    "125 + 25**3 + 5**9"
   ]
  },
  {
   "cell_type": "code",
   "execution_count": 23,
   "id": "fda2c1b3",
   "metadata": {},
   "outputs": [
    {
     "name": "stdout",
     "output_type": "stream",
     "text": [
      "Введите с.с.: 13\n",
      "1\n",
      "15\n",
      "51\n"
     ]
    }
   ],
   "source": [
    "n = 66\n",
    "w = (int(input(\"Введите с.с.: \")))\n",
    "c = \"\"\n",
    "while(n>0):\n",
    "    if w == 2:\n",
    "        c = bin(n)\n",
    "        print(c[2::])\n",
    "        break\n",
    "    if w == 8:\n",
    "        c = oct(n)\n",
    "        print(c[2::])\n",
    "        break\n",
    "    if w == 16:\n",
    "        c = hex(n)\n",
    "        print(c[2::])\n",
    "        break\n",
    "    else:\n",
    "        c = c + (str(n % w))\n",
    "        n = n // w\n",
    "        print(c)\n",
    "print(c[::-1]) # выводит значение для всех с.с. кроме 2,8,16"
   ]
  },
  {
   "cell_type": "markdown",
   "id": "7b709d91",
   "metadata": {},
   "source": [
    "Укажите наименьшее основание системы счисления, \n",
    "в которой запись числа 70 трехзначна."
   ]
  },
  {
   "cell_type": "code",
   "execution_count": 8,
   "id": "44bb49bb",
   "metadata": {},
   "outputs": [
    {
     "name": "stdout",
     "output_type": "stream",
     "text": [
      "Введите с.с.: 5\n",
      "240\n",
      "2\n"
     ]
    }
   ],
   "source": [
    "n = 70\n",
    "w = (int(input(\"Введите с.с.: \")))\n",
    "c = \"\"\n",
    "while(n>1):\n",
    "    if w == 2:\n",
    "        c = bin(n)\n",
    "        print(c[2::])\n",
    "        break\n",
    "    if w == 8:\n",
    "        c = oct(n)\n",
    "        print(c[2::])\n",
    "        break\n",
    "    if w == 16:\n",
    "        c = hex(n)\n",
    "        print(c[2::])\n",
    "        break\n",
    "    else:\n",
    "        c = c + (str(n % w))\n",
    "        n = n // w\n",
    "print(c[::-1]) # выводит значение для всех с.с. кроме 2,8,16"
   ]
  },
  {
   "cell_type": "markdown",
   "id": "39bfe38c",
   "metadata": {},
   "source": [
    "Решите уравнение: 35(6) + x = 35(7)\n",
    "\n",
    "Ответ запишите в десятичной системе счисления."
   ]
  },
  {
   "cell_type": "code",
   "execution_count": null,
   "id": "75a50a31",
   "metadata": {},
   "outputs": [],
   "source": [
    "23 + х = 26\n",
    "х = 3"
   ]
  },
  {
   "cell_type": "code",
   "execution_count": null,
   "id": "3d2b43df",
   "metadata": {},
   "outputs": [],
   "source": [
    "# Чему равно наименьшее основание \n",
    "# позиционной системы счисления x, \n",
    "# при котором 225x = 405y?\n",
    "# 1. переведем в 10с.с.:\n",
    "    5*(x^0)+2*(x^1)+2*(x^2) = 5*(y^0)+0*(y^1)+4*(y^2)\n",
    "    5+2x+2x^2=5+4y^2 # удаляю 5\n",
    "    2(x+x^2)=4y^2 # выношу 2 и сокращаю\n",
    "    x+x^2=2y^2 \n",
    "# 2. Начинаем подбор:\n",
    "    х = 6\n",
    "    6 + 36 = 2y^2\n",
    "    42 = 2y^2\n",
    "    21 = y^2\n",
    "    x = 7\n",
    "    56 = 2y^2\n",
    "    x = 8\n",
    "    72 = 2y^2\n",
    "    36 = y^2\n",
    "    y = 6"
   ]
  },
  {
   "cell_type": "markdown",
   "id": "e8cc0a36",
   "metadata": {},
   "source": [
    "Значение арифметического выражения: \n",
    "    98 + 38 – 2 – записали в системе счисления с основанием 3. \n",
    "    Сколько цифр «2» содержится в этой записи?"
   ]
  },
  {
   "cell_type": "code",
   "execution_count": 15,
   "id": "476046da",
   "metadata": {},
   "outputs": [
    {
     "name": "stdout",
     "output_type": "stream",
     "text": [
      "Введите с.с.: 9\n",
      "000000000000000000088888888860\n",
      "9\n"
     ]
    }
   ],
   "source": [
    "n = 81**15 + 3**22 - 27\n",
    "w = (int(input(\"Введите с.с.: \")))\n",
    "c = \"\"\n",
    "while(n>1):\n",
    "    if w == 2:\n",
    "        c = bin(n)\n",
    "        print(c[2::])\n",
    "        break\n",
    "    if w == 8:\n",
    "        c = oct(n)\n",
    "        print(c[2::])\n",
    "        break\n",
    "    if w == 16:\n",
    "        c = hex(n)\n",
    "        print(c[2::])\n",
    "        break\n",
    "    else:\n",
    "        c = c + (str(n % w))\n",
    "        n = n // w\n",
    "h = c[::-1]\n",
    "print(h) # выводит значение для всех с.с. кроме 2,8,16\n",
    "print(h.count(\"8\"))"
   ]
  },
  {
   "cell_type": "code",
   "execution_count": null,
   "id": "feb80709",
   "metadata": {},
   "outputs": [],
   "source": [
    "81**15 + 3**22 - 2**7"
   ]
  }
 ],
 "metadata": {
  "kernelspec": {
   "display_name": "Python 3 (ipykernel)",
   "language": "python",
   "name": "python3"
  },
  "language_info": {
   "codemirror_mode": {
    "name": "ipython",
    "version": 3
   },
   "file_extension": ".py",
   "mimetype": "text/x-python",
   "name": "python",
   "nbconvert_exporter": "python",
   "pygments_lexer": "ipython3",
   "version": "3.8.0"
  }
 },
 "nbformat": 4,
 "nbformat_minor": 5
}
