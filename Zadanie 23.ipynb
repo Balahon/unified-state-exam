{
 "cells": [
  {
   "cell_type": "code",
   "execution_count": null,
   "id": "2e503cc8",
   "metadata": {},
   "outputs": [],
   "source": [
    "def f(x, y):\n",
    "    if x > y or x == 11 or x == 17:\n",
    "        return 0\n",
    "    if x == y:\n",
    "        return 1\n",
    "    else:\n",
    "        return f(x + 1, y) + f(x + 4, y) + f(x * 2, y)\n",
    "print(f(5,10)*f(10,18))"
   ]
  }
 ],
 "metadata": {
  "language_info": {
   "name": "python"
  }
 },
 "nbformat": 4,
 "nbformat_minor": 5
}
