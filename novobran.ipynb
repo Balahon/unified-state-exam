{
 "cells": [
  {
   "cell_type": "code",
   "execution_count": null,
   "id": "f59b0862",
   "metadata": {},
   "outputs": [],
   "source": [
    "duhi = list(input())\n",
    "print(duhi)\n",
    "count = 0\n",
    "n = len(duhi)\n",
    "razvorot = True\n",
    "while razvorot:\n",
    "    razvorot = False\n",
    "    i = 0\n",
    "    while i < n-1:\n",
    "        if duhi[i] == '>' and duhi[i+1] == \"<\":\n",
    "            duhi[i] = '<'\n",
    "            duhi[i+1] = '>'\n",
    "            count += 1\n",
    "            razvorot = True\n",
    "            i += 1\n",
    "            print(duhi)\n",
    "        i+=1\n",
    "print(count)"
   ]
  }
 ],
 "metadata": {
  "language_info": {
   "name": "python"
  }
 },
 "nbformat": 4,
 "nbformat_minor": 5
}
