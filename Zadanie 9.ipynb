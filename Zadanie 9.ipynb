{
 "cells": [
  {
   "cell_type": "code",
   "execution_count": null,
   "id": "8120a8ee",
   "metadata": {},
   "outputs": [],
   "source": [
    "# # открываем файл в виде списка\n",
    "a = open(\"9 вариант 1.csv\").read().split()\n",
    "q = [list(map(int,i.split(';'))) for i in a]\n",
    "print(q)\n",
    "c = 0\n",
    "for i in q:\n",
    "    w = [e for e in i if i.count(e) == 3]\n",
    "    r = [e for e in i if i.count(e) == 1]\n",
    "    if len(w)>0:\n",
    "        if (len(set(i)) != max(w)) and (len(set(w)) == 2) and len(r) == 2:\n",
    "            c += 1\n",
    "            print(i)\n",
    "print(c)"
   ]
  },
  {
   "cell_type": "code",
   "execution_count": null,
   "id": "9eea9148",
   "metadata": {},
   "outputs": [],
   "source": [
    "a = open(\"demo_2025_9.csv\").read().split()\n",
    "q = [list(map(int,i.split(';'))) for i in a]\n",
    "c = 0\n",
    "for i in q:\n",
    "    w = ([e for e in i if i.count(e) == 3])\n",
    "    r = [e for e in i if i.count(e) == 1]\n",
    "    if len(w) == 3 and len(r) == 3:\n",
    "        if sum(w)**2 > sum(r)**2:\n",
    "            c += 1\n",
    "print(c)"
   ]
  }
 ],
 "metadata": {
  "language_info": {
   "name": "python"
  }
 },
 "nbformat": 4,
 "nbformat_minor": 5
}
