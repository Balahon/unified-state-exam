{
 "cells": [
  {
   "cell_type": "code",
   "execution_count": 1,
   "id": "9d21b951",
   "metadata": {},
   "outputs": [
    {
     "ename": "TclError",
     "evalue": "no display name and no $DISPLAY environment variable",
     "output_type": "error",
     "traceback": [
      "\u001b[31m---------------------------------------------------------------------------\u001b[39m",
      "\u001b[31mTclError\u001b[39m                                  Traceback (most recent call last)",
      "\u001b[36mCell\u001b[39m\u001b[36m \u001b[39m\u001b[32mIn[1]\u001b[39m\u001b[32m, line 3\u001b[39m\n\u001b[32m      1\u001b[39m \u001b[38;5;28;01mimport\u001b[39;00m\u001b[38;5;250m \u001b[39m\u001b[34;01mturtle\u001b[39;00m\n\u001b[32m      2\u001b[39m k = \u001b[32m8\u001b[39m \u001b[38;5;66;03m# масштаб\u001b[39;00m\n\u001b[32m----> \u001b[39m\u001b[32m3\u001b[39m \u001b[43mturtle\u001b[49m\u001b[43m.\u001b[49m\u001b[43mscreensize\u001b[49m\u001b[43m(\u001b[49m\u001b[32;43m10000\u001b[39;49m\u001b[43m,\u001b[49m\u001b[32;43m10000\u001b[39;49m\u001b[43m)\u001b[49m\n\u001b[32m      4\u001b[39m turtle.tracer(\u001b[32m0\u001b[39m) \u001b[38;5;66;03m# бечать без рисования\u001b[39;00m\n\u001b[32m      5\u001b[39m turtle.pendown() \u001b[38;5;66;03m# опустить хвост\u001b[39;00m\n",
      "\u001b[36mFile \u001b[39m\u001b[32m<string>:6\u001b[39m, in \u001b[36mscreensize\u001b[39m\u001b[34m(canvwidth, canvheight, bg)\u001b[39m\n",
      "\u001b[36mFile \u001b[39m\u001b[32m/usr/local/python/3.12.1/lib/python3.12/turtle.py:3730\u001b[39m, in \u001b[36mScreen\u001b[39m\u001b[34m()\u001b[39m\n\u001b[32m   3726\u001b[39m \u001b[38;5;250m\u001b[39m\u001b[33;03m\"\"\"Return the singleton screen object.\u001b[39;00m\n\u001b[32m   3727\u001b[39m \u001b[33;03mIf none exists at the moment, create a new one and return it,\u001b[39;00m\n\u001b[32m   3728\u001b[39m \u001b[33;03melse return the existing one.\"\"\"\u001b[39;00m\n\u001b[32m   3729\u001b[39m \u001b[38;5;28;01mif\u001b[39;00m Turtle._screen \u001b[38;5;129;01mis\u001b[39;00m \u001b[38;5;28;01mNone\u001b[39;00m:\n\u001b[32m-> \u001b[39m\u001b[32m3730\u001b[39m     Turtle._screen = \u001b[43m_Screen\u001b[49m\u001b[43m(\u001b[49m\u001b[43m)\u001b[49m\n\u001b[32m   3731\u001b[39m \u001b[38;5;28;01mreturn\u001b[39;00m Turtle._screen\n",
      "\u001b[36mFile \u001b[39m\u001b[32m/usr/local/python/3.12.1/lib/python3.12/turtle.py:3741\u001b[39m, in \u001b[36m_Screen.__init__\u001b[39m\u001b[34m(self)\u001b[39m\n\u001b[32m   3739\u001b[39m \u001b[38;5;28;01mdef\u001b[39;00m\u001b[38;5;250m \u001b[39m\u001b[34m__init__\u001b[39m(\u001b[38;5;28mself\u001b[39m):\n\u001b[32m   3740\u001b[39m     \u001b[38;5;28;01mif\u001b[39;00m _Screen._root \u001b[38;5;129;01mis\u001b[39;00m \u001b[38;5;28;01mNone\u001b[39;00m:\n\u001b[32m-> \u001b[39m\u001b[32m3741\u001b[39m         _Screen._root = \u001b[38;5;28mself\u001b[39m._root = \u001b[43m_Root\u001b[49m\u001b[43m(\u001b[49m\u001b[43m)\u001b[49m\n\u001b[32m   3742\u001b[39m         \u001b[38;5;28mself\u001b[39m._root.title(_Screen._title)\n\u001b[32m   3743\u001b[39m         \u001b[38;5;28mself\u001b[39m._root.ondestroy(\u001b[38;5;28mself\u001b[39m._destroy)\n",
      "\u001b[36mFile \u001b[39m\u001b[32m/usr/local/python/3.12.1/lib/python3.12/turtle.py:430\u001b[39m, in \u001b[36m_Root.__init__\u001b[39m\u001b[34m(self)\u001b[39m\n\u001b[32m    429\u001b[39m \u001b[38;5;28;01mdef\u001b[39;00m\u001b[38;5;250m \u001b[39m\u001b[34m__init__\u001b[39m(\u001b[38;5;28mself\u001b[39m):\n\u001b[32m--> \u001b[39m\u001b[32m430\u001b[39m     \u001b[43mTK\u001b[49m\u001b[43m.\u001b[49m\u001b[43mTk\u001b[49m\u001b[43m.\u001b[49m\u001b[34;43m__init__\u001b[39;49m\u001b[43m(\u001b[49m\u001b[38;5;28;43mself\u001b[39;49m\u001b[43m)\u001b[49m\n",
      "\u001b[36mFile \u001b[39m\u001b[32m/usr/local/python/3.12.1/lib/python3.12/tkinter/__init__.py:2340\u001b[39m, in \u001b[36mTk.__init__\u001b[39m\u001b[34m(self, screenName, baseName, className, useTk, sync, use)\u001b[39m\n\u001b[32m   2338\u001b[39m         baseName = baseName + ext\n\u001b[32m   2339\u001b[39m interactive = \u001b[38;5;28;01mFalse\u001b[39;00m\n\u001b[32m-> \u001b[39m\u001b[32m2340\u001b[39m \u001b[38;5;28mself\u001b[39m.tk = \u001b[43m_tkinter\u001b[49m\u001b[43m.\u001b[49m\u001b[43mcreate\u001b[49m\u001b[43m(\u001b[49m\u001b[43mscreenName\u001b[49m\u001b[43m,\u001b[49m\u001b[43m \u001b[49m\u001b[43mbaseName\u001b[49m\u001b[43m,\u001b[49m\u001b[43m \u001b[49m\u001b[43mclassName\u001b[49m\u001b[43m,\u001b[49m\u001b[43m \u001b[49m\u001b[43minteractive\u001b[49m\u001b[43m,\u001b[49m\u001b[43m \u001b[49m\u001b[43mwantobjects\u001b[49m\u001b[43m,\u001b[49m\u001b[43m \u001b[49m\u001b[43museTk\u001b[49m\u001b[43m,\u001b[49m\u001b[43m \u001b[49m\u001b[43msync\u001b[49m\u001b[43m,\u001b[49m\u001b[43m \u001b[49m\u001b[43muse\u001b[49m\u001b[43m)\u001b[49m\n\u001b[32m   2341\u001b[39m \u001b[38;5;28;01mif\u001b[39;00m useTk:\n\u001b[32m   2342\u001b[39m     \u001b[38;5;28mself\u001b[39m._loadtk()\n",
      "\u001b[31mTclError\u001b[39m: no display name and no $DISPLAY environment variable"
     ]
    }
   ],
   "source": [
    "import turtle\n",
    "k = 8 # масштаб\n",
    "turtle.screensize(10000,10000)\n",
    "turtle.tracer(0) # бечать без рисования\n",
    "turtle.pendown() # опустить хвост\n",
    "# алгоритм\n",
    "for i in range(10):\n",
    "    turtle.forward(22*k)\n",
    "    turtle.right(90)\n",
    "    turtle.forward(6*k)\n",
    "    turtle.right(90)\n",
    "turtle.penup()\n",
    "turtle.forward(1*k)\n",
    "turtle.right(90)\n",
    "turtle.forward(5*k)\n",
    "turtle.left(90)\n",
    "turtle.pendown()\n",
    "for i in range(10):\n",
    "    turtle.forward(53*k)\n",
    "    turtle.right(90)\n",
    "    turtle.forward(75*k)\n",
    "    turtle.right(90)\n",
    "# отмечаем точки\n",
    "turtle.penup()\n",
    "for x in range(-80,81):\n",
    "    for y in range(-80,81):\n",
    "        turtle.goto(x*k,y*k)\n",
    "        turtle.dot(3,'red') # размер и цвет точки\n",
    "turtle.exitonclick() # закрыть окно по щелчку"
   ]
  },
  {
   "cell_type": "code",
   "execution_count": null,
   "id": "6f93930c",
   "metadata": {},
   "outputs": [],
   "source": [
    "from turtle import *\n",
    "speed(1000) # скорость перемещения (мгновенно)\n",
    "m = 100 # коэфициент размера\n",
    "screensize(50000, 50000) # размер экрана \n",
    "begin_fill() # начало закрашивания\n",
    "rt(180) # поворот вправо\n",
    "fd(2*m) # двигаться вперед на 2*m шагов\n",
    "rt(90)\n",
    "fd(30*m)\n",
    "rt(90)\n",
    "fd(2*m)\n",
    "rt(30)\n",
    "for i in range(6):\n",
    "    fd(5*m) \n",
    "    rt(120)\n",
    "    fd(5*m)\n",
    "    rt(240)\n",
    "end_fill() # конец закрашивания\n",
    "canvas = getcanvas() # сохранение рисунка для работы\n",
    "asd = 0 \n",
    "for x in range(-500, 500):\n",
    "    for y in range(-500, 500):\n",
    "        if canvas.find_overlapping(x*m, y*m, x*m, y*m) == (5,): # проходимся по координатам и сверяемся с точками закрашенной части\n",
    "            asd += 1 # счет совпадений\n",
    "print(asd)\n",
    "done() # сохранение рисунка в открытом виде"
   ]
  }
 ],
 "metadata": {
  "kernelspec": {
   "display_name": "Python 3 (ipykernel)",
   "language": "python",
   "name": "python3"
  }
 },
 "nbformat": 4,
 "nbformat_minor": 5
}
