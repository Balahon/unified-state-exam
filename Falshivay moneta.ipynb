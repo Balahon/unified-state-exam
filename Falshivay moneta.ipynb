{
 "cells": [
  {
   "cell_type": "code",
   "execution_count": null,
   "id": "f52ca4a5",
   "metadata": {},
   "outputs": [],
   "source": [
    "n = int(input())\n",
    "coins = [i for i in range(1,3**n+1)]\n",
    "for i in range(n):\n",
    "    razmer_g = len(coins) // 3\n",
    "    g1 = coins[:razmer_g]\n",
    "    g2 = coins[razmer_g:razmer_g*2]\n",
    "    g3 = coins[razmer_g*2:]\n",
    "    print(f'Взвешиваем группы: {g1} и {g2}')\n",
    "    result = int(input('введите рез-т взвеш. (0-равно,1-левая тяжелее,2-правая тяжелее): '))\n",
    "    if result == 0:\n",
    "        coins = g3\n",
    "    elif result == 1:\n",
    "        coins = g1\n",
    "    else:\n",
    "        coins = g2\n",
    "print(f'Фальшивая монета под номером: {coins[0]}')\n"
   ]
  }
 ],
 "metadata": {
  "language_info": {
   "name": "python"
  }
 },
 "nbformat": 4,
 "nbformat_minor": 5
}
