{
 "cells": [
  {
   "cell_type": "code",
   "execution_count": null,
   "id": "7c4a6e50",
   "metadata": {},
   "outputs": [],
   "source": [
    "n = int(input())\n",
    "l = [i for i in range(2,n+1)]\n",
    "q = l\n",
    "w = set()\n",
    "for i in range(len(l)-1):\n",
    "    for j in range(i+1,len(l)):\n",
    "        if l[j]%l[i]==0:\n",
    "            w.add(l[j])\n",
    "for i in w:\n",
    "    q.remove(i)\n",
    "print(q)\n"
   ]
  }
 ],
 "metadata": {
  "language_info": {
   "name": "python"
  }
 },
 "nbformat": 4,
 "nbformat_minor": 5
}
