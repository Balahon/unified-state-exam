{
 "cells": [
  {
   "cell_type": "code",
   "execution_count": null,
   "id": "d2913690",
   "metadata": {},
   "outputs": [],
   "source": [
    "# задача про студентов: последний степендиант и первый двоишник (>2)\n",
    "f = open('demo_2025_26.txt').readlines()\n",
    "N = int(f[0])\n",
    "del f[0]\n",
    "s = [list(map(int,i.split())) for i in f]\n",
    "spisok = sorted(s,key=lambda x:x[0])\n",
    "stepend = [i for i in spisok if i.count(2)==0]\n",
    "stepend.sort(key=lambda x:sum(x[1:]),reverse=True)\n",
    "dvoishniki = [i for i in spisok if i.count(2) > 0]\n",
    "dvoishniki.sort(key=lambda x:x[1:].count(2))\n",
    "# print(stepend[:N//4][-1][0])\n",
    "# q = list(filter(lambda x: x[1:].count(2) > 2, dvoishniki))\n",
    "q = [i for i in dvoishniki if i.count(2)>2][0][0]\n",
    "# print(q)\n",
    "print(stepend[:N//4][-1][0],list(filter(lambda x: x[1:].count(2) > 2, dvoishniki))[0][0])\n",
    "\n"
   ]
  },
  {
   "cell_type": "code",
   "execution_count": null,
   "id": "c51fb0e3",
   "metadata": {},
   "outputs": [],
   "source": [
    "# задача про администратора: большее число пользователей, макс файл\n",
    "f = open('26_demo.txt').readlines()\n",
    "V = int(f[0].split()[0])\n",
    "del f[0]\n",
    "s = list(map(int,f)) # тип списка из str в int\n",
    "s.sort() # сортировка от мин к маск\n",
    "summa = 0\n",
    "for count in range(len(s)):\n",
    "    if summa + s[count] > V: break\n",
    "    else:summa += s[count]\n",
    "q = s[count-1]\n",
    "print(V-summa)\n",
    "for i in range(s[count],len(s)):\n",
    "    if s[i] - s[count-1] <= V-summa:\n",
    "        q = max(s[i],q)\n",
    "print(count,q)"
   ]
  },
  {
   "cell_type": "code",
   "execution_count": null,
   "id": "e0d07a58",
   "metadata": {},
   "outputs": [],
   "source": [
    "# задача про продавца:\n",
    "# —на каждый второй товар стоимостью больше 50 рублей предоставляется скидка 25%;\n",
    "# —общая стоимость покупки со скидкой округляется вверх до целого числа рублей;\n",
    "# —порядок товаров в списке определяет продавец и делает это так, чтобы общая сумма скидки была наименьшей.\n",
    "f = open('16053.txt').readlines()\n",
    "N = int(f[0])\n",
    "del f[0]\n",
    "s = list(map(int,f))\n",
    "SP50 = [i for i in s if i <= 50]\n",
    "for i in SP50:\n",
    "    s.remove(i)\n",
    "s.sort()\n",
    "summa = sum(SP50)\n",
    "maxx = 0\n",
    "for i in range(len(s)//2):\n",
    "    summa += s[i]*0.75\n",
    "    maxx = max(s[i],maxx)\n",
    "    summa += s[-i-1]\n",
    "print(summa,maxx)"
   ]
  }
 ],
 "metadata": {
  "language_info": {
   "name": "python"
  }
 },
 "nbformat": 4,
 "nbformat_minor": 5
}
