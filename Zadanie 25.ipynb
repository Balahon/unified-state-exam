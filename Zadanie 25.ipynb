{
 "cells": [
  {
   "cell_type": "code",
   "execution_count": null,
   "id": "778a4338",
   "metadata": {},
   "outputs": [],
   "source": [
    "def F(n):\n",
    "    m = n//2\n",
    "    q = 2\n",
    "    while(n % (m) != 0):\n",
    "        m -= 1\n",
    "    while(n%q != 0):\n",
    "        q += 1\n",
    "    return q + m\n",
    "for i in range(800000,1000000):\n",
    "    if F(i) % 10 == 4:\n",
    "        print(i, F(i))"
   ]
  },
  {
   "cell_type": "code",
   "execution_count": null,
   "id": "7e84722a",
   "metadata": {},
   "outputs": [],
   "source": [
    "s = '1*34?5?9'\n",
    "N = 10**10\n",
    "q = [str(i) for i in range(31007,10**10,31007)]\n",
    "w = []\n",
    "for i in q:\n",
    "    if i[0] == '1' and i[-1] == '9' and i[-3] == '5' and i[-5] == '4' and i[-6] == '3':\n",
    "        w.append([i,int(i)/31007])\n",
    "print(w)"
   ]
  },
  {
   "cell_type": "code",
   "execution_count": null,
   "id": "880becb7",
   "metadata": {},
   "outputs": [],
   "source": [
    "s = '?79?8*3'\n",
    "N = 10**8\n",
    "q = [str(i) for i in range(3377,N,3377)]\n",
    "w = []\n",
    "a = []\n",
    "for i in q:\n",
    "    if i[1] == '7' and i[2] == '9' and i[-1] == '3' and i[4] == '8':\n",
    "        w.append(i)\n",
    "        a.append(int(i)/3377)\n",
    "print(w,a)"
   ]
  },
  {
   "cell_type": "code",
   "execution_count": null,
   "id": "1ff80148",
   "metadata": {},
   "outputs": [],
   "source": [
    "def F(n):\n",
    "    m = n//2\n",
    "    q = 2\n",
    "    while(n % (m) != 0):\n",
    "        m -= 1\n",
    "    while(n%q != 0):\n",
    "        q += 1\n",
    "    return m-q\n",
    "for i in range(860000,100000000):\n",
    "    if F(i) % 100 == 18:\n",
    "        print(i, F(i))"
   ]
  },
  {
   "cell_type": "code",
   "execution_count": null,
   "id": "433180cb",
   "metadata": {},
   "outputs": [],
   "source": [
    "def F(n):\n",
    "    m = n//2\n",
    "    while(n % m != 0):\n",
    "        m -= 1\n",
    "    if m > 1:\n",
    "        q = m//2\n",
    "        while (m % q != 0):\n",
    "            q -= 1\n",
    "        if q == 1:\n",
    "            return 0\n",
    "        else:\n",
    "            return m-q\n",
    "    else:\n",
    "        return 0\n",
    "for i in range(550001,100000000):\n",
    "    if F(i) != 0:\n",
    "        print(i, F(i))"
   ]
  },
  {
   "cell_type": "code",
   "execution_count": null,
   "id": "1252611e",
   "metadata": {},
   "outputs": [],
   "source": [
    "from fnmatch import fnmatch\n",
    "for i in range(1917,10**10+1,1917):\n",
    "    if fnmatch(str(i),'3?12?14*5'):\n",
    "        print(i,i//1917)"
   ]
  }
 ],
 "metadata": {
  "language_info": {
   "name": "python"
  }
 },
 "nbformat": 4,
 "nbformat_minor": 5
}
