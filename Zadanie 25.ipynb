{
 "cells": [
  {
   "cell_type": "code",
   "execution_count": null,
   "id": "778a4338",
   "metadata": {},
   "outputs": [],
   "source": [
    "def F(n):\n",
    "    m = n//2\n",
    "    q = 2\n",
    "    while(n % (m) != 0):\n",
    "        m -= 1\n",
    "    while(n%q != 0):\n",
    "        q += 1\n",
    "    return q + m\n",
    "for i in range(800000,1000000):\n",
    "    if F(i) % 10 == 4:\n",
    "        print(i, F(i))"
   ]
  },
  {
   "cell_type": "code",
   "execution_count": null,
   "id": "7e84722a",
   "metadata": {},
   "outputs": [],
   "source": [
    "s = '1*34?5?9'\n",
    "N = 10**10\n",
    "q = [str(i) for i in range(31007,10**10,31007)]\n",
    "w = []\n",
    "for i in q:\n",
    "    if i[0] == '1' and i[-1] == '9' and i[-3] == '5' and i[-5] == '4' and i[-6] == '3':\n",
    "        w.append([i,int(i)/31007])\n",
    "print(w)"
   ]
  },
  {
   "cell_type": "code",
   "execution_count": null,
   "id": "880becb7",
   "metadata": {},
   "outputs": [],
   "source": [
    "s = '?79?8*3'\n",
    "N = 10**8\n",
    "q = [str(i) for i in range(3377,N,3377)]\n",
    "w = []\n",
    "a = []\n",
    "for i in q:\n",
    "    if i[1] == '7' and i[2] == '9' and i[-1] == '3' and i[4] == '8':\n",
    "        w.append(i)\n",
    "        a.append(int(i)/3377)\n",
    "print(w,a)"
   ]
  },
  {
   "cell_type": "code",
   "execution_count": null,
   "id": "1ff80148",
   "metadata": {},
   "outputs": [],
   "source": [
    "def F(n):\n",
    "    m = n//2\n",
    "    q = 2\n",
    "    while(n % (m) != 0):\n",
    "        m -= 1\n",
    "    while(n%q != 0):\n",
    "        q += 1\n",
    "    return m-q\n",
    "for i in range(860000,100000000):\n",
    "    if F(i) % 100 == 18:\n",
    "        print(i, F(i))"
   ]
  },
  {
   "cell_type": "code",
   "execution_count": null,
   "id": "433180cb",
   "metadata": {},
   "outputs": [],
   "source": [
    "def F(n):\n",
    "    m = n//2\n",
    "    while(n % m != 0):\n",
    "        m -= 1\n",
    "    if m > 1:\n",
    "        q = m//2\n",
    "        while (m % q != 0):\n",
    "            q -= 1\n",
    "        if q == 1:\n",
    "            return 0\n",
    "        else:\n",
    "            return m-q\n",
    "    else:\n",
    "        return 0\n",
    "for i in range(550001,100000000):\n",
    "    if F(i) != 0:\n",
    "        print(i, F(i))"
   ]
  },
  {
   "cell_type": "code",
   "execution_count": null,
   "id": "1252611e",
   "metadata": {},
   "outputs": [],
   "source": [
    "from fnmatch import fnmatch\n",
    "for i in range(1917,10**10+1,1917):\n",
    "    if fnmatch(str(i),'3?12?14*5'):\n",
    "        print(i,i//1917)"
   ]
  },
  {
   "cell_type": "code",
   "execution_count": null,
   "id": "480d5ebe",
   "metadata": {},
   "outputs": [],
   "source": [
    "# Пусть R - разность максимального и минимального простых делителей целого числа, не считая самого числа. Напишите программу, которая\n",
    "# перебирает целые числа, большие 3 333 337 в порядке возрастания и ищет среди них такие, для которых R больше 1000 и кратно 3. В ответе запишите в\n",
    "# первом столбце таблицы первые пять найденных чисел в порядке возрастания, а во втором столбце - соответствующие им значения R\n",
    "def f(n):\n",
    "    return n > 1 and all(n % d != 0 for d in range(2, int(n**0.5) + 1))\n",
    "\n",
    "a = 3_333_337\n",
    "m = 0\n",
    "while m < 5:\n",
    "    a += 1\n",
    "    s = set()\n",
    "    for i in range(2, int(a**0.5) + 1):\n",
    "        if a % i == 0:\n",
    "            if f(i):\n",
    "                s.add(i)\n",
    "            if f(a//i):\n",
    "                s.add(a//i)\n",
    "    if len(s) >= 2:\n",
    "        R = max(s) - min(s)\n",
    "        if R > 1000 and R % 3 == 0:\n",
    "            print(a, R)\n",
    "            m += 1"
   ]
  },
  {
   "cell_type": "code",
   "execution_count": null,
   "id": "9d339106",
   "metadata": {},
   "outputs": [],
   "source": [
    "# Среди натуральных чисел, не превышающих 1010,\n",
    "# , найдите все числа, соответствующие маске ?9?23?*23?? и делящиеся на 1984 без остатка.\n",
    "# В ответе запишите в первом столбце таблицы все найденные числа в порядке возрастания, а во втором столбце - соответствующие им результаты деления\n",
    "# этих чисел на 1984. Количество строк в таблице для ответа избыточно.\n",
    "from fnmatch import fnmatch\n",
    "\n",
    "for i in range(0, 10**10+1, 1984):\n",
    "    if fnmatch(str(i), '?9?23?*23??') and int(str(i)[0])%2==0 and int(str(i)[-1])%2==0 and int(str(i)[-2])%2!=0:\n",
    "        print(i, i//1984)"
   ]
  },
  {
   "cell_type": "code",
   "execution_count": null,
   "id": "512bc1e9",
   "metadata": {},
   "outputs": [],
   "source": [
    "# Напишите программу, которая перебирает целые числа, большие 500 000, в порядке возрастания и ищет среди них такие, у которых есть хотя бы один\n",
    "# делитель, соответствующий маске 2*3?. В ответе запишите в первом столбце таблицы первые пять найденных чисел в порядке возрастания, а во втором\n",
    "# столбце - наименьший их делитель, соответствующий заданной маске.\n",
    "from fnmatch import fnmatch\n",
    "\n",
    "a = 500000\n",
    "m = 0\n",
    "while m < 5:\n",
    "    a += 1\n",
    "    l = set()\n",
    "    for i in range(1, int(a**0.5) + 1):\n",
    "        if a % i == 0:\n",
    "            if fnmatch(str(i), '2*3?'):\n",
    "                l.add(i)\n",
    "            if fnmatch(str(a//i), '2*3?'):\n",
    "                l.add(a//i)\n",
    "    if len(l) > 0:\n",
    "        print(a, min(l))\n",
    "        m += 1"
   ]
  }
 ],
 "metadata": {
  "language_info": {
   "name": "python"
  }
 },
 "nbformat": 4,
 "nbformat_minor": 5
}
