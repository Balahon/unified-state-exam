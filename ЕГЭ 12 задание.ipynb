{
 "cells": [
  {
   "cell_type": "code",
   "execution_count": null,
   "id": "73437016",
   "metadata": {},
   "outputs": [],
   "source": [
    "# открываем файл на чтение через пробел\n",
    "zadanie17 = open('17.txt').read().split() \n",
    "#print(zadanie17)\n",
    "# запишем в виде списка, представив все элементы числовами\n",
    "s1 =list(map(int,zadanie17))\n",
    "#print(s1)\n",
    "count = 0 #счётчик\n",
    "max = 0 #макс\n",
    "for i in range(len(s1)):\n",
    "    if i == 0: # 0 элемент не считаем\n",
    "        next #пропусаем\n",
    "    if (s1[i-1] + s1[i]) % 5 == 0 and (s1[i-1] % 3 == 0 or s1[i] % 3 == 0):\n",
    "        count += 1\n",
    "        if (s1[i-1] + s1[i]) > max:\n",
    "            max = s1[i-1] + s1[i]\n",
    "print(count, max)"
   ]
  },
  {
   "cell_type": "code",
   "execution_count": null,
   "id": "9260f899",
   "metadata": {},
   "outputs": [],
   "source": [
    "strng = '1' * 104\n",
    "print()\n",
    "while ('111' in strng):\n",
    "    strng = strng.replace('111', '22', 1)\n",
    "    strng = strng.replace('222', '11', 1)\n",
    "print(strng)\n"
   ]
  },
  {
   "cell_type": "code",
   "execution_count": null,
   "id": "c9441433",
   "metadata": {},
   "outputs": [],
   "source": [
    "a = \"1\" + \"9\"*100\n",
    "print(a)\n",
    "while((\"19\" in a) or (\"299\" in a) or(\"3999\" in a)):\n",
    "    a = a.replace(\"19\", \"2\", 1)\n",
    "    print(a)\n",
    "    a = a.replace(\"299\", \"3\", 1)\n",
    "    print(a)\n",
    "    a = a.replace(\"3999\", \"1\", 1)\n",
    "    print(a)\n",
    "print(\"результат : \", a)"
   ]
  },
  {
   "cell_type": "code",
   "execution_count": null,
   "id": "b3c92c1f",
   "metadata": {},
   "outputs": [],
   "source": [
    "a = \"8\"*70\n",
    "print(a)\n",
    "while((\"2222\" in a) or (\"8888\" in a)):\n",
    "    a = a.replace(\"2222\", \"88\", 1)\n",
    "    print(a)\n",
    "    a = a.replace(\"8888\", \"22\", 1)\n",
    "    print(a)\n",
    "print(\"результат : \", a)"
   ]
  },
  {
   "cell_type": "code",
   "execution_count": null,
   "id": "80c61060",
   "metadata": {},
   "outputs": [],
   "source": [
    "a = \"1\" + \"8\"*99 + \"1\"\n",
    "while((\"81\" in a) or (\"882\" in a) or (\"8883\" in a)):\n",
    "    a = a.replace(\"81\", \"2\", 1)\n",
    "    print(a)\n",
    "    a = a.replace(\"882\", \"3\", 1)\n",
    "    print(a)\n",
    "    a = a.replace(\"8883\", \"1\", 1)\n",
    "    print(a)\n",
    "print(\"результат : \", a)"
   ]
  },
  {
   "cell_type": "code",
   "execution_count": null,
   "id": "71b5ce83",
   "metadata": {},
   "outputs": [],
   "source": [
    "a = [20, 10]\n",
    "while (a[0] != 0) or (a[1] != 0):\n",
    "    for i in range(2):\n",
    "        if i == 0:\n",
    "            a[0] = a[0] - 1\n",
    "        else:\n",
    "            a[1] = a[1] - 2\n",
    "    \n",
    "print(a)"
   ]
  }
 ],
 "metadata": {
  "kernelspec": {
   "display_name": "Python 3 (ipykernel)",
   "language": "python",
   "name": "python3"
  },
  "language_info": {
   "codemirror_mode": {
    "name": "ipython",
    "version": 3
   },
   "file_extension": ".py",
   "mimetype": "text/x-python",
   "name": "python",
   "nbconvert_exporter": "python",
   "pygments_lexer": "ipython3",
   "version": "3.8.0"
  }
 },
 "nbformat": 4,
 "nbformat_minor": 5
}
