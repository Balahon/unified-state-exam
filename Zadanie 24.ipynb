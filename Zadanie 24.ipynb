{
 "cells": [
  {
   "cell_type": "code",
   "execution_count": 52,
   "id": "2388afac",
   "metadata": {},
   "outputs": [
    {
     "name": "stdout",
     "output_type": "stream",
     "text": [
      "95\n"
     ]
    }
   ],
   "source": [
    "# Текстовый файл состоит из символов A, C, D, F и O. \n",
    "# Определите максимальное количество идущих подряд пар символов вида \n",
    "# согласная + гласная   в прилагаемом файле. \n",
    "# Для выполнения этого задания следует написать программу.\n",
    "n = open('24.txt').read().split() # открываем файл на запись\n",
    "q = n[0] # файл открылся ввиде массива с одним элементом [\"OFAFOF...\"]\n",
    "# для удобства мы сохраним все в виде строки (q = n[0]) \n",
    "# присвоив переменной q всю строку/запись массива n под индексом 0.\n",
    "a = [] # теперь, для удобства, запишем строку q в виде списка\n",
    "for i in q:\n",
    "    a.append(i)\n",
    "# создадим 2 массива с гласными и согласными буквами\n",
    "sogl = ['C','D','F'] \n",
    "gl = ['A','O']\n",
    "count = 0 # счетчик\n",
    "maxx = 0 # максимальное число\n",
    "flag = False # маркер. По нему будем ориентироваться, есть ли пара СОГЛ+ГЛАС\n",
    "for i in range(len(a)-1): # начинаем цикл до предпоследнего элемнета\n",
    "    if a[i] in sogl: # если 1 элемент соглассный\n",
    "        if a[i+1] in gl: # если 2 элемнт глассный\n",
    "            count += 1 # счетчик +1\n",
    "            if maxx < count: # тут сразу проверяем максимум\n",
    "                maxx = count\n",
    "            flag = True # маркер того, что есть пара\n",
    "        elif a[i+1] in sogl: # если 2 элемент соглассный\n",
    "            count = 0 # обнуляем счетчик\n",
    "            flag = False # маркер переводим в False - начинаем счет заного\n",
    "    elif flag: # если маркер True - значит есть хотя бы 1 пара букв\n",
    "        if a[i] in gl:# если 1 элемент глассный\n",
    "            if a[i+1] in gl:# если 2 элемент глассный\n",
    "                count = 0 # обнуляем счетчик\n",
    "                flag = False # маркер переводим в False - начинаем счет заного\n",
    "# нас удовлетворяют условия: согл + глас. Если есть хотя бы 1 пара согл + глас,\n",
    "# то если следующие элементы глас + согл, ничего не делаем и проверяем дальше.\n",
    "# если идут согл + согл или глас + глас, то мы обнуляем счетчик и начинаем\n",
    "# счет с нуля.\n",
    "print(maxx)\n",
    "        "
   ]
  },
  {
   "cell_type": "code",
   "execution_count": 1,
   "id": "d70740d7",
   "metadata": {},
   "outputs": [
    {
     "name": "stdout",
     "output_type": "stream",
     "text": [
      "10 FATSFATFAT\n"
     ]
    }
   ],
   "source": [
    "# В файле содержится строка длиной не более 106 из букв английского алфавита\n",
    "# Определите минимальную длину подстроки, в которой ровно три тройки BAD или FAT.\n",
    "# Например, в строке SDFATFDBADZZSFATBADGHTBAD есть три подходящие подстрок\n",
    "# FATFDBADZZSFAT, BADZZSFATBAD и FATBADGHTBAD. Минимальная длина 12.\n",
    "n = open('24_9169.txt').read().split()\n",
    "q = n[0]\n",
    "a = []\n",
    "for i in q:\n",
    "    a.append(i)\n",
    "first = ['B','A','D']\n",
    "second = ['F','A','T']\n",
    "count = 0\n",
    "dlin = ''\n",
    "minn = 9999\n",
    "i=0\n",
    "while(i<(len(a)-2)):\n",
    "    if (a[i] == first[0] and a[i+1] == first[1] and a[i+2] == first[2]) or (a[i] == second[0] and a[i+1] == second[1] and a[i+2] == second[2]):\n",
    "        count += 1\n",
    "        if count == 2: # запоминаем первое вхождение второй комбинации\n",
    "            i1 = i\n",
    "    if count < 3 and count > 0:\n",
    "        dlin += a[i] \n",
    "    if count == 3:\n",
    "        dlin += a[i]+a[i+1]+a[i+2]\n",
    "        if minn > (len(dlin)):\n",
    "            minn = (len(dlin))\n",
    "            q = (dlin)\n",
    "        count = 0\n",
    "        dlin = ''\n",
    "        i = i1 # вовращаем i к значению, когда появляется 2 комбинация\n",
    "#         2 комбинация теперь становится 1\n",
    "    else:\n",
    "        i+=1\n",
    "print(minn, q)\n",
    "# цикл работает так:\n",
    "# сначала выбираем первую комбинацию [FATFFSBADFEBAD]\n",
    "# затем откидываем все, что было перед первой комбинацией\n",
    "# и строем новую [BADFEBADFDSFAT] и так далее\n",
    "# именно запоминая первое вхождение второй комбинации\n",
    "# и присваивая после 3 комбинации\n",
    "# i значению i1 значение, мы реализуем проход по всем комбинациям\n"
   ]
  },
  {
   "cell_type": "code",
   "execution_count": null,
   "id": "8aa7cf80",
   "metadata": {},
   "outputs": [],
   "source": [
    "a = open(\"demo_2025_24.txt\").readline()\n",
    "print(len(a))\n",
    "count = 0\n",
    "m = 0\n",
    "l = ''\n",
    "for i in range(len(a)-1):\n",
    "    if all([a[i]+a[i+1]!='*-',a[i]+a[i+1]!='-*',a[i]+a[i+1]!= '**',a[i]+a[i+1]!='--']):\n",
    "        count += 1\n",
    "        l += a[i]\n",
    "    else:\n",
    "        l += a[i]\n",
    "        if m < len(l):\n",
    "            m = len(l)\n",
    "            print(l)\n",
    "        l = ''\n",
    "print(m)\n",
    "\n",
    "# max1 = 83\n",
    "# for i in range(len(a)):\n",
    "#     if a[i] == \"A\" or a[i] == \"B\":\n",
    "#         s.append(i)\n",
    "# print(s)\n",
    "# b = list(map(int,s))\n",
    "# for i in range(len(b) - 4):\n",
    "#     if max1 < (b[i+4] - b[i] - 1 ):\n",
    "#         max1 = b[i+4] - b[i] - 1\n",
    "#         print(max1)"
   ]
  },
  {
   "cell_type": "code",
   "execution_count": null,
   "id": "49e8d234",
   "metadata": {},
   "outputs": [],
   "source": [
    "f=open('21045.txt').readline()\n",
    "k = 1\n",
    "while ('XYZ' * k) in f:\n",
    "    k = k + 1\n",
    "R = 'XYZ'*(k - 1)\n",
    "if (R + 'X') in f:\n",
    "    if (R + 'XY') in f:\n",
    "        print(R + 'XY',len(R + 'XY'))\n",
    "    else:\n",
    "        print(R + 'X',len(R + 'X'))\n",
    "else: print(len(R))"
   ]
  },
  {
   "cell_type": "code",
   "execution_count": null,
   "id": "7b8c3176",
   "metadata": {},
   "outputs": [],
   "source": [
    "f=open('21046.txt').readline()\n",
    "m = 0\n",
    "l = f[0]\n",
    "for i in range(len(f)-1):\n",
    "    if f[i] == f[i+1] == \"A\":\n",
    "        l += f[i+1]\n",
    "        m = max(m,len(l))\n",
    "    else:\n",
    "        l = f[i+1]\n",
    "print(m,l)"
   ]
  },
  {
   "cell_type": "code",
   "execution_count": null,
   "id": "193ae123",
   "metadata": {},
   "outputs": [],
   "source": [
    "a = open('21048.txt').readline()\n",
    "m = k = 1\n",
    "while ('AB' * k) in a:\n",
    "    k+=1\n",
    "l = 'AB' * (k-1)\n",
    "if (l + 'A') in a:\n",
    "    m = max(m,len(l+'A'))\n",
    "else:\n",
    "    m = max(m, len(l))\n",
    "print(m)"
   ]
  },
  {
   "cell_type": "code",
   "execution_count": null,
   "id": "244627e9",
   "metadata": {},
   "outputs": [],
   "source": [
    "stroka = open('24var01.txt').readline()\n",
    "m = 100000\n",
    "c = 0\n",
    "start = stroka.find('A')\n",
    "for i in range(len(stroka)):\n",
    "    if stroka[i] == 'A':\n",
    "        c += 1\n",
    "    if c == 2024:\n",
    "        END = (i)\n",
    "        str = stroka[start:END + 1]\n",
    "        c -= 1\n",
    "        start = stroka.find('A',start+1)\n",
    "        m = min(m,len(str))\n",
    "print(m)"
   ]
  },
  {
   "cell_type": "code",
   "execution_count": null,
   "id": "89f97a46",
   "metadata": {},
   "outputs": [],
   "source": [
    "a = open('24var02.txt').readline()\n",
    "m = 0\n",
    "c = 0\n",
    "indST = a.find('A')\n",
    "for i in range(len(a)):\n",
    "    if a[i] == 'A':\n",
    "        c += 1\n",
    "    if c == 350:\n",
    "        indEND = (i)\n",
    "        str = a[indST:indEND + 1]\n",
    "        c -= 1\n",
    "        indST = a.find('A',indST+1,len(a)+1)\n",
    "        m = max(m,len(str))\n",
    "print(m)\n"
   ]
  },
  {
   "cell_type": "code",
   "execution_count": null,
   "id": "4167cf9e",
   "metadata": {},
   "outputs": [],
   "source": [
    "a = open('24var04.txt').readline()\n",
    "m = 0\n",
    "c = 0\n",
    "alist = a.split('E')\n",
    "for i in alist:\n",
    "    if i.count('A') <= 700:\n",
    "        m = max(m,len(i))\n",
    "        print(i)\n",
    "print(m)"
   ]
  },
  {
   "cell_type": "code",
   "execution_count": null,
   "id": "27006e37",
   "metadata": {},
   "outputs": [],
   "source": [
    "a = open('24var06.txt').readline()\n",
    "m = 100000\n",
    "c = 0\n",
    "indST = a.find('A')\n",
    "for i in range(len(a)):\n",
    "    if a[i] == 'A':\n",
    "        c += 1\n",
    "    if c == 35:\n",
    "        indEND = (i)\n",
    "        str = a[indST:indEND + 1]\n",
    "        c -= 1\n",
    "        indST = a.find('A',indST+1,len(a)+1)\n",
    "        m = min(m,len(str))\n",
    "print(m)"
   ]
  },
  {
   "cell_type": "code",
   "execution_count": null,
   "id": "61d0f634",
   "metadata": {},
   "outputs": [],
   "source": [
    "with open('input.txt', 'r') as file:\n",
    "    s = file.read()\n",
    "# открываем файл на чтение\n",
    "left = 0 # переменная для индекса последней буквы\n",
    "max_len = 0 # переменная для длины\n",
    "count_a = 0 # переменная для количества букв\n",
    "\n",
    "for right in range(len(s)):\n",
    "    if s[right] == 'A':\n",
    "        count_a += 1\n",
    "    while count_a > 350:\n",
    "        if s[left] == 'A':\n",
    "            count_a -= 1\n",
    "        left += 1\n",
    "    current_length = right - left + 1\n",
    "    if current_length > max_len:\n",
    "        max_len = current_length\n",
    "\n",
    "print(max_len)"
   ]
  },
  {
   "cell_type": "code",
   "execution_count": null,
   "id": "dde2bed5",
   "metadata": {},
   "outputs": [],
   "source": [
    "# тек ф состоит из 10^6 симв XYZ\n",
    "# Определите макс кол идущих подряд символов, без Z\n",
    "a = open('24var13-17.txt').readline()\n",
    "Z_ind = []\n",
    "\n",
    "for i in range(len(a)):\n",
    "    if a[i] == 'Z':\n",
    "        Z_ind.append(i)\n",
    "m = 0\n",
    "for i in range(len(Z_ind)-1):\n",
    "    m = max(m, Z_ind[i+1]-Z_ind[i]-1)\n",
    "print(m)"
   ]
  }
 ],
 "metadata": {
  "kernelspec": {
   "display_name": "Python 3 (ipykernel)",
   "language": "python",
   "name": "python3"
  },
  "language_info": {
   "codemirror_mode": {
    "name": "ipython",
    "version": 3
   },
   "file_extension": ".py",
   "mimetype": "text/x-python",
   "name": "python",
   "nbconvert_exporter": "python",
   "pygments_lexer": "ipython3",
   "version": "3.11.1"
  }
 },
 "nbformat": 4,
 "nbformat_minor": 5
}
