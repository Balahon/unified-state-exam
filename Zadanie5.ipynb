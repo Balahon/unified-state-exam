{
 "cells": [
  {
   "cell_type": "code",
   "execution_count": 2,
   "id": "e6793b57",
   "metadata": {},
   "outputs": [
    {
     "name": "stdout",
     "output_type": "stream",
     "text": [
      "16\n"
     ]
    }
   ],
   "source": [
    "for N in range(40): #ГЕНЕРАЦИЯ\n",
    "    New = \"\"   \n",
    "    Nbin = bin(N)[2::]  #ПЕРЕВОДИМ ЧИСЛО N из 10 в 2 (без учета первых 2 символов)\n",
    "    if Nbin.count(\"1\") % 2 == 0:  #проверяем количество едениц в полученной строке\n",
    "        New += \"10\" + Nbin[2::] + \"0\" \n",
    "    else:\n",
    "        New += \"11\" + Nbin[2::] + \"1\"\n",
    "    END = int(New,2) #переводим из 2 в 10 сс\n",
    "    if END > 40:\n",
    "        break\n",
    "print(N)"
   ]
  },
  {
   "cell_type": "code",
   "execution_count": 3,
   "id": "e62ca8ee",
   "metadata": {},
   "outputs": [
    {
     "name": "stdout",
     "output_type": "stream",
     "text": [
      "1011\n"
     ]
    }
   ],
   "source": [
    "for N in range(999,1020):\n",
    "    a = bin(N)[2::]\n",
    "    b = \"\"\n",
    "    for i in a:\n",
    "        if i == \"0\":\n",
    "            b = b+\"1\"\n",
    "        else:\n",
    "            b=b+\"0\"\n",
    "    if (int(a,2)-int(b,2)) == 999:\n",
    "        print(N)\n",
    "        break"
   ]
  },
  {
   "cell_type": "code",
   "execution_count": null,
   "id": "7385c09b",
   "metadata": {},
   "outputs": [],
   "source": []
  }
 ],
 "metadata": {
  "kernelspec": {
   "display_name": "Python 3 (ipykernel)",
   "language": "python",
   "name": "python3"
  },
  "language_info": {
   "codemirror_mode": {
    "name": "ipython",
    "version": 3
   },
   "file_extension": ".py",
   "mimetype": "text/x-python",
   "name": "python",
   "nbconvert_exporter": "python",
   "pygments_lexer": "ipython3",
   "version": "3.11.1"
  }
 },
 "nbformat": 4,
 "nbformat_minor": 5
}
