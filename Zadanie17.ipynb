{
 "cells": [
  {
   "cell_type": "code",
   "execution_count": null,
   "id": "18823817",
   "metadata": {},
   "outputs": [],
   "source": [
    "# открываем файл на чтение через пробел\n",
    "zadanie17 = open('17.txt').read().split() \n",
    "#print(zadanie17)\n",
    "# запишем в виде списка, представив все элементы числовами\n",
    "s1 =list(map(int,zadanie17))\n",
    "#print(s1)\n",
    "count = 0 #счётчик\n",
    "max = 0 #макс\n",
    "for i in range(len(s1)):\n",
    "    if i == 0: # 0 элемент не считаем\n",
    "        next #пропусаем\n",
    "    if (s1[i-1] + s1[i]) % 5 == 0 and (s1[i-1] % 3 == 0 or s1[i] % 3 == 0):\n",
    "        count += 1\n",
    "        if (s1[i-1] + s1[i]) > max:\n",
    "            max = s1[i-1] + s1[i]\n",
    "print(count, max)"
   ]
  },
  {
   "cell_type": "code",
   "execution_count": 1,
   "id": "1322d946",
   "metadata": {
    "scrolled": false
   },
   "outputs": [
    {
     "name": "stdout",
     "output_type": "stream",
     "text": [
      "92471   9945\n"
     ]
    }
   ],
   "source": [
    "zadanie1 = open(\"17 (1).txt\").read().split()\n",
    "s = list(map(int, zadanie1))\n",
    "count = 0\n",
    "m = 0\n",
    "for i in range(0, len(zadanie1)-1):\n",
    "    for j in range(i+1, len(zadanie1)):\n",
    "        if ((abs(s[i]-s[j]))%45 == 0) and ((s[i]%18==0) or (s[j]%18==0)):\n",
    "            count += 1\n",
    "            if (abs(s[i]-s[j])) > m:\n",
    "                m = abs(s[i]-s[j])\n",
    "print(count, \" \", m)"
   ]
  },
  {
   "cell_type": "code",
   "execution_count": null,
   "id": "af5604d4",
   "metadata": {},
   "outputs": [],
   "source": [
    "#  Определите количество пар последовательности, в которых \n",
    "# только одно число оканчивается на 3, а сумма квадратов элементов пары \n",
    "# не меньше квадрата максимального элемента последовательности, \n",
    "# оканчивающегося на 3. В ответе запишите два числа: сначала количество \n",
    "# найденных пар, затем максимальную из сумм квадратов элементов таких \n",
    "# пар. В данной задаче под парой подразумевается два идущих подряд \n",
    "# элемента последовательности.\n",
    "# открываем файл на чтение(open(\"17.txt\").read())\n",
    "# и записываем в виде массива (split())\n",
    "a = open('17.txt').read().split() \n",
    "# все пременные переводим из текстового в числовой тип\n",
    "q1 = list(map(int,a))\n",
    "# можно все записать в одну строчку\n",
    "# a = list(map(int,open('17.txt').read().split()))\n",
    "# list() - создаем массив\n",
    "# map(int,open('17.txt').read().split())-\n",
    "# все пременные переводим из текстового в числовой тип\n",
    "# создадим массив для перевода отрицательных чисел в положительные\n",
    "q = []\n",
    "for x in q1:\n",
    "    if x < 0:\n",
    "        x = x * (-1)\n",
    "    q.append(x)\n",
    "m = 0\n",
    "c = 0\n",
    "# Найдем максимальный квадрат числа, оканчивающийся на 3\n",
    "for x in q:\n",
    "    if x % 10 == 3:\n",
    "        if m < x**2: \n",
    "            m = x ** 2\n",
    "print(m)\n",
    "mm = 0\n",
    "# рассмотрим индексы так: при х = 0, y = 1.\n",
    "# заметим, х принимает значение от 0 до предпоследнего значения\n",
    "for x in range(0,len(q)-1):\n",
    "    y = x+1 \n",
    "# тут прописываем условие:\n",
    "    if (q[x] % 10 == 3 and q[y] % 10 != 3) or (q[x] % 10 != 3 and q[y] % 10 == 3):\n",
    "        if q[x]**2 + q[y]**2 >= m:\n",
    "            c += 1\n",
    "            if mm < q[x]**2 + q[y]**2:\n",
    "                mm = q[x]**2 + q[y]**2\n",
    "print(c,mm)"
   ]
  },
  {
   "cell_type": "code",
   "execution_count": null,
   "id": "42cae032",
   "metadata": {},
   "outputs": [],
   "source": [
    "# упростить можно так:\n",
    "# убераем цикл, где на -1 умножали. abs(x)-воводит х в модуль\n",
    "# и строку \n",
    "# if (q[x] % 10 == 3 and q[y] % 10 != 3) or (q[x] % 10 != 3 and q[y] % 10 == 3) \n",
    "# упрощаем так if ((abs(q[x]) % 10 == 3) != (abs(q[y]) % 10 == 3))\n",
    "a = open('17.txt').read().split()\n",
    "q = list(map(int,a))\n",
    "m = 0\n",
    "c = 0\n",
    "for x in q:\n",
    "    if abs(x) % 10 == 3:\n",
    "        if m < x**2:\n",
    "            m = x** 2\n",
    "print(m)\n",
    "mm = 0\n",
    "for x in range(0,len(q)-1):\n",
    "    y = x+1\n",
    "    if ((abs(q[x]) % 10 == 3) != (abs(q[y]) % 10 == 3)):\n",
    "        if q[x]**2 + q[y]**2 >= m:\n",
    "            c += 1\n",
    "            if mm < q[x]**2 + q[y]**2:\n",
    "                mm = q[x]**2 + q[y]**2\n",
    "print(c,mm)"
   ]
  }
 ],
 "metadata": {
  "kernelspec": {
   "display_name": "Python 3 (ipykernel)",
   "language": "python",
   "name": "python3"
  },
  "language_info": {
   "codemirror_mode": {
    "name": "ipython",
    "version": 3
   },
   "file_extension": ".py",
   "mimetype": "text/x-python",
   "name": "python",
   "nbconvert_exporter": "python",
   "pygments_lexer": "ipython3",
   "version": "3.11.1"
  }
 },
 "nbformat": 4,
 "nbformat_minor": 5
}
