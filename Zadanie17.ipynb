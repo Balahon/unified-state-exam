{
 "cells": [
  {
   "cell_type": "code",
   "execution_count": null,
   "id": "18823817",
   "metadata": {},
   "outputs": [],
   "source": [
    "# открываем файл на чтение через пробел\n",
    "zadanie17 = open('17.txt').read().split() \n",
    "#print(zadanie17)\n",
    "# запишем в виде списка, представив все элементы числовами\n",
    "s1 =list(map(int,zadanie17))\n",
    "#print(s1)\n",
    "count = 0 #счётчик\n",
    "max = 0 #макс\n",
    "for i in range(len(s1)):\n",
    "    if i == 0: # 0 элемент не считаем\n",
    "        next #пропусаем\n",
    "    if (s1[i-1] + s1[i]) % 5 == 0 and (s1[i-1] % 3 == 0 or s1[i] % 3 == 0):\n",
    "        count += 1\n",
    "        if (s1[i-1] + s1[i]) > max:\n",
    "            max = s1[i-1] + s1[i]\n",
    "print(count, max)"
   ]
  },
  {
   "cell_type": "code",
   "execution_count": 1,
   "id": "1322d946",
   "metadata": {
    "scrolled": false
   },
   "outputs": [
    {
     "name": "stdout",
     "output_type": "stream",
     "text": [
      "92471   9945\n"
     ]
    }
   ],
   "source": [
    "zadanie1 = open(\"17 (1).txt\").read().split()\n",
    "s = list(map(int, zadanie1))\n",
    "count = 0\n",
    "m = 0\n",
    "for i in range(0, len(zadanie1)-1):\n",
    "    for j in range(i+1, len(zadanie1)):\n",
    "        if ((abs(s[i]-s[j]))%45 == 0) and ((s[i]%18==0) or (s[j]%18==0)):\n",
    "            count += 1\n",
    "            if (abs(s[i]-s[j])) > m:\n",
    "                m = abs(s[i]-s[j])\n",
    "print(count, \" \", m)"
   ]
  }
 ],
 "metadata": {
  "kernelspec": {
   "display_name": "Python 3 (ipykernel)",
   "language": "python",
   "name": "python3"
  },
  "language_info": {
   "codemirror_mode": {
    "name": "ipython",
    "version": 3
   },
   "file_extension": ".py",
   "mimetype": "text/x-python",
   "name": "python",
   "nbconvert_exporter": "python",
   "pygments_lexer": "ipython3",
   "version": "3.8.0"
  }
 },
 "nbformat": 4,
 "nbformat_minor": 5
}
