{
 "cells": [
  {
   "cell_type": "markdown",
   "id": "023a389c",
   "metadata": {},
   "source": [
    "Элементами множеств А, P, Q являются натуральные числа, \n",
    "причём P = {1, 3, 4, 9, 11, 13, 15, 17, 19, 21}, \n",
    "Q = {3, 6, 9, 12, 15, 18, 21, 24, 27, 30}.\n",
    "\n",
    "Известно, что выражение\n",
    "((xэP)->(xэA))or(not(xэA)->not(xэQ))\n",
    "\n",
    "\n",
    "истинно (то есть принимает значение 1) \n",
    "при любом значении переменной x. Определите наименьшее возможное количество элементов в множестве A."
   ]
  },
  {
   "cell_type": "markdown",
   "id": "e9b12d09",
   "metadata": {},
   "source": [
    "((xэP)->(xэA))or(not(xэA)->not(xэQ))\n",
    "(not(xэP) or (xэA)) or ((xэA) or not(xэQ))"
   ]
  },
  {
   "cell_type": "code",
   "execution_count": 13,
   "id": "4078b2d1",
   "metadata": {},
   "outputs": [],
   "source": [
    "P = [1,3,4,9,11,13,15,17,19,21] \n",
    "Q = [3,6,9,12,15,18,21,24,27,30]"
   ]
  },
  {
   "cell_type": "code",
   "execution_count": 24,
   "id": "8480fae5",
   "metadata": {},
   "outputs": [],
   "source": [
    "A = [i for i in range(100)]\n",
    "for x in range(0,33):\n",
    "    if ((not(x in P) or (x in A)) or ((x in A) or not(x in Q))) == 0:\n",
    "        print(x)"
   ]
  },
  {
   "cell_type": "code",
   "execution_count": null,
   "id": "115b844c",
   "metadata": {},
   "outputs": [],
   "source": [
    "# x & 29 ≠ 0 → (x & 17 = 0 → x & А ≠ 0)\n",
    "# 1. x & 17 = 0\n",
    "# if (int(bin(x)[2:]) and int(bin(17)[2:]) == 0\n",
    "# x & 29\n",
    "# 2. x & А ≠ 0\n",
    "# if (int(bin(x)[2:]) and int(bin(A)[2:]) != 0\n",
    "# a -> b : a <= b\n",
    "# if 1 <= 2\n",
    "\n",
    "# Q = set()\n",
    "# for A in range(1,101):\n",
    "#     c = 0\n",
    "#     for x in range(1,101):\n",
    "#         if ((x & 28 != 0) or (x & 45 != 0)) <= ((x & 17 == 0) <= (x & A != 0)):\n",
    "#             c+=1\n",
    "#         else:\n",
    "#             break\n",
    "#         if c == 100:\n",
    "#             Q.add(A)\n",
    "# print(min(Q))\n"
   ]
  },
  {
   "cell_type": "code",
   "execution_count": null,
   "id": "ab6c3740",
   "metadata": {},
   "outputs": [],
   "source": [
    "((x ∈ P) ≡ (x ∈ Q)) → ¬(x ∈ A)\n",
    "P = [x for x in range(10,16)]\n",
    "Q = [x for x in range(10,21)]\n",
    "R = [x for x in range(5,16)]\n",
    "w = 100\n",
    "for Amin in range(1,101):\n",
    "    for Amax in range(Amin+1,101):\n",
    "        A = [x for x in range(Amin,Amax+1)]\n",
    "        for x in range(1,101):\n",
    "            # ¬(x ∈ A) →(((x ∈ P) ⋀ (x ∈ Q)) → (x ∈ A))\n",
    "            if ((x in A) <= (x in P)) == ((x in Q) <= (x in R)):\n",
    "                c = 1\n",
    "            else:\n",
    "                c = 0\n",
    "                break\n",
    "        if c == 1:\n",
    "            w = min(w,len(A))\n",
    "            print(A)\n",
    "print(w)\n",
    "\n"
   ]
  },
  {
   "cell_type": "code",
   "execution_count": null,
   "id": "1d64933e",
   "metadata": {},
   "outputs": [],
   "source": [
    "# ((x < 6) → (x2 < A)) ∧ ((y2 ≤ A) → (y ≤ 6))\n",
    "q = set()\n",
    "w = set()\n",
    "for A in range(1,200):\n",
    "    for x in range(1,200):\n",
    "        for y in range(1,200):\n",
    "            if ((x < 6) <= (x**2 < A)) and ((y**2 <= A) <= (y <= 6)):\n",
    "                q.add(A)\n",
    "            else:\n",
    "                w.add(A)\n",
    "for i in w:\n",
    "    if i in q:\n",
    "        q.discard(i)\n",
    "print(len(q))\n"
   ]
  },
  {
   "cell_type": "code",
   "execution_count": null,
   "id": "ee900987",
   "metadata": {},
   "outputs": [],
   "source": [
    "# ((x ∈ A) → (x2 ≤ 100)) ∧ ((x2 ≤ 64) → (x ∈ A))\n",
    "f = 0\n",
    "q = 100\n",
    "for Amin in range(-101,101):\n",
    "    for Amax in range(Amin+1,101):\n",
    "        A = [i for i in range(Amin,Amax+1)]\n",
    "        for x in range(-101,101):\n",
    "            if ((x in A) <= (x ** 2 <= 100)) and ((x ** 2 <= 64) <= (x in A)):\n",
    "                f = 1\n",
    "            else:\n",
    "                f = 0\n",
    "                break\n",
    "        if f == 1:\n",
    "            q = min(q,len(A))\n",
    "            print(A)\n",
    "\n",
    "print(q)"
   ]
  }
 ],
 "metadata": {
  "kernelspec": {
   "display_name": "Python 3 (ipykernel)",
   "language": "python",
   "name": "python3"
  },
  "language_info": {
   "codemirror_mode": {
    "name": "ipython",
    "version": 3
   },
   "file_extension": ".py",
   "mimetype": "text/x-python",
   "name": "python",
   "nbconvert_exporter": "python",
   "pygments_lexer": "ipython3",
   "version": "3.11.1"
  }
 },
 "nbformat": 4,
 "nbformat_minor": 5
}
