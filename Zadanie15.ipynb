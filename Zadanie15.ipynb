{
 "cells": [
  {
   "cell_type": "markdown",
   "id": "023a389c",
   "metadata": {},
   "source": [
    "Элементами множеств А, P, Q являются натуральные числа, \n",
    "причём P = {1, 3, 4, 9, 11, 13, 15, 17, 19, 21}, \n",
    "Q = {3, 6, 9, 12, 15, 18, 21, 24, 27, 30}.\n",
    "\n",
    "Известно, что выражение\n",
    "((xэP)->(xэA))or(not(xэA)->not(xэQ))\n",
    "\n",
    "\n",
    "истинно (то есть принимает значение 1) \n",
    "при любом значении переменной x. Определите наименьшее возможное количество элементов в множестве A."
   ]
  },
  {
   "cell_type": "markdown",
   "id": "e9b12d09",
   "metadata": {},
   "source": [
    "((xэP)->(xэA))or(not(xэA)->not(xэQ))\n",
    "(not(xэP) or (xэA)) or ((xэA) or not(xэQ))"
   ]
  },
  {
   "cell_type": "code",
   "execution_count": 13,
   "id": "4078b2d1",
   "metadata": {},
   "outputs": [],
   "source": [
    "P = [1,3,4,9,11,13,15,17,19,21] \n",
    "Q = [3,6,9,12,15,18,21,24,27,30]"
   ]
  },
  {
   "cell_type": "code",
   "execution_count": 24,
   "id": "8480fae5",
   "metadata": {},
   "outputs": [],
   "source": [
    "A = [i for i in range(100)]\n",
    "for x in range(0,33):\n",
    "    if ((not(x in P) or (x in A)) or ((x in A) or not(x in Q))) == 0:\n",
    "        print(x)"
   ]
  },
  {
   "cell_type": "code",
   "execution_count": null,
   "id": "115b844c",
   "metadata": {},
   "outputs": [],
   "source": []
  }
 ],
 "metadata": {
  "kernelspec": {
   "display_name": "Python 3 (ipykernel)",
   "language": "python",
   "name": "python3"
  },
  "language_info": {
   "codemirror_mode": {
    "name": "ipython",
    "version": 3
   },
   "file_extension": ".py",
   "mimetype": "text/x-python",
   "name": "python",
   "nbconvert_exporter": "python",
   "pygments_lexer": "ipython3",
   "version": "3.11.1"
  }
 },
 "nbformat": 4,
 "nbformat_minor": 5
}
